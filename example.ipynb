{
 "cells": [
  {
   "cell_type": "code",
   "execution_count": 19,
   "metadata": {},
   "outputs": [],
   "source": [
    "# 匯入自定義模組\n",
    "import ITSA.simulation as sim\n",
    "from ITSA.models.AIRMA import AIRMA\n",
    "from ITSA.stattools import interval_correlation\n",
    "from ITSA.itsaplots import plot_acf, plot_pacf, dandelion, segment\n",
    "from ITSA.utils import refactor_interval\n",
    "\n",
    "# 匯入第三方模組\n",
    "import numpy as np\n",
    "import pandas as pd\n",
    "import ipywidgets as widgets\n",
    "\n",
    "import plotly.graph_objects as go"
   ]
  },
  {
   "cell_type": "code",
   "execution_count": 20,
   "metadata": {},
   "outputs": [],
   "source": [
    "def plot_interval_ts(interval_ts, title=\"Simulation Result\"):\n",
    "    lags = np.arange(interval_ts.shape[0])\n",
    "\n",
    "    fig = go.FigureWidget()\n",
    "    fig.add_trace(\n",
    "        go.Scatter(\n",
    "            x=lags,\n",
    "            y=interval_ts[\"Upper Bound\"],\n",
    "            mode=\"lines+markers\",\n",
    "            line=dict(color=\"rgb(70,130,180)\", width=1),\n",
    "            name=\"Simulated Upper Bound\",\n",
    "        )\n",
    "    )\n",
    "    fig.add_trace(\n",
    "        go.Scatter(\n",
    "            x=lags,\n",
    "            y=interval_ts[\"Lower Bound\"],\n",
    "            mode=\"lines+markers\",\n",
    "            line=dict(color=\"rgb(205,38,38)\", width=1),\n",
    "            name=\"Simulated Lower Bound\",\n",
    "        )\n",
    "    )\n",
    "    fig.update_layout(\n",
    "        title=title,\n",
    "        xaxis_title=\"Lag\",\n",
    "        yaxis_title=\"Value\",\n",
    "        hovermode=\"x\",\n",
    "    )\n",
    "    return(fig)"
   ]
  },
  {
   "attachments": {},
   "cell_type": "markdown",
   "metadata": {},
   "source": [
    "## 模型演示\n",
    "\n",
    "本小節使用`ipywidgets`，以互動化的方式，呈現不同參數設定對模型趨勢的影響。\n"
   ]
  },
  {
   "cell_type": "code",
   "execution_count": 21,
   "metadata": {},
   "outputs": [
    {
     "data": {
      "application/vnd.jupyter.widget-view+json": {
       "model_id": "f1d12025660d4dbc9edef6c2ee92a14b",
       "version_major": 2,
       "version_minor": 0
      },
      "text/plain": [
       "interactive(children=(FloatSlider(value=-0.5, description='params', max=0.9, min=-0.9, step=0.2), FloatSlider(…"
      ]
     },
     "execution_count": 21,
     "metadata": {},
     "output_type": "execute_result"
    }
   ],
   "source": [
    "def show_air_1(params, sigma, lags):\n",
    "    sim_data = sim.air([params], sigma, 1000, lags)\n",
    "    res = plot_interval_ts(sim_data, \"Simulation of AIR(1)\")\n",
    "    display(res)\n",
    "\n",
    "widgets.interactive(\n",
    "    show_air_1,\n",
    "    params=widgets.FloatSlider(value=-0.5, min=-0.9, max=0.9, step=0.2),\n",
    "    sigma=widgets.FloatSlider(value=1, min=1, max=10, step=1),\n",
    "    lags=widgets.IntSlider(min=200, max=1000, step=100),\n",
    ")"
   ]
  },
  {
   "cell_type": "code",
   "execution_count": 22,
   "metadata": {},
   "outputs": [
    {
     "data": {
      "application/vnd.jupyter.widget-view+json": {
       "model_id": "8f31aa7a0d6b4230b5530e156f286579",
       "version_major": 2,
       "version_minor": 0
      },
      "text/plain": [
       "interactive(children=(FloatSlider(value=-0.5, description='params', max=0.9, min=-0.9, step=0.2), FloatSlider(…"
      ]
     },
     "execution_count": 22,
     "metadata": {},
     "output_type": "execute_result"
    }
   ],
   "source": [
    "def show_ivma_1(params, sigma, lags):\n",
    "    sim_data = sim.ivma([params], sigma, 1000, lags)\n",
    "    res = plot_interval_ts(sim_data, \"Simulation of IVMA(1)\")\n",
    "    display(res)\n",
    "\n",
    "widgets.interactive(\n",
    "    show_ivma_1,\n",
    "    params=widgets.FloatSlider(value=-0.5, min=-0.9, max=0.9, step=0.2),\n",
    "    sigma=widgets.FloatSlider(value=1, min=1, max=10, step=1),\n",
    "    lags=widgets.IntSlider(min=200, max=1000, step=100),\n",
    ")"
   ]
  },
  {
   "cell_type": "code",
   "execution_count": 23,
   "metadata": {},
   "outputs": [
    {
     "data": {
      "application/vnd.jupyter.widget-view+json": {
       "model_id": "aaf87d2d8dec4df9892c8ca18508a599",
       "version_major": 2,
       "version_minor": 0
      },
      "text/plain": [
       "interactive(children=(FloatSlider(value=0.3, description='param_ar', max=0.9, min=-0.9, step=0.2), FloatSlider…"
      ]
     },
     "execution_count": 23,
     "metadata": {},
     "output_type": "execute_result"
    }
   ],
   "source": [
    "def show_airma_11(param_ar, param_ma, sigma, lags):\n",
    "    sim_data = sim.airma([param_ar], [param_ma], sigma, 1000, lags)\n",
    "    res = plot_interval_ts(sim_data, \"Simulation of AIRMA(1,1)\")\n",
    "    display(res)\n",
    "\n",
    "widgets.interactive(\n",
    "    show_airma_11,\n",
    "    param_ar=widgets.FloatSlider(value=0.3, min=-0.9, max=0.9, step=0.2),\n",
    "    param_ma=widgets.FloatSlider(value=0.5, min=-0.9, max=0.9, step=0.2),\n",
    "    sigma=widgets.FloatSlider(value=1, min=1, max=10, step=1),\n",
    "    lags=widgets.IntSlider(min=200, max=1000, step=100),\n",
    ")"
   ]
  },
  {
   "attachments": {},
   "cell_type": "markdown",
   "metadata": {},
   "source": [
    "## 模型配適\n",
    "本小節以`AIRMA`模型為範例，生成模擬資料，繪製自相關函數與局部自相關函數，並配適區間值時間序列模型。\n",
    "\n",
    "模組中，共有四種模型可供選擇，包含`AIR`、`HVAIR`、`IVMA`以及`AIRMA`模型"
   ]
  },
  {
   "cell_type": "code",
   "execution_count": 24,
   "metadata": {},
   "outputs": [
    {
     "data": {
      "text/html": [
       "<div>\n",
       "<style scoped>\n",
       "    .dataframe tbody tr th:only-of-type {\n",
       "        vertical-align: middle;\n",
       "    }\n",
       "\n",
       "    .dataframe tbody tr th {\n",
       "        vertical-align: top;\n",
       "    }\n",
       "\n",
       "    .dataframe thead th {\n",
       "        text-align: right;\n",
       "    }\n",
       "</style>\n",
       "<table border=\"1\" class=\"dataframe\">\n",
       "  <thead>\n",
       "    <tr style=\"text-align: right;\">\n",
       "      <th></th>\n",
       "      <th>Upper Bound</th>\n",
       "      <th>Lower Bound</th>\n",
       "    </tr>\n",
       "  </thead>\n",
       "  <tbody>\n",
       "    <tr>\n",
       "      <th>0</th>\n",
       "      <td>7.605216</td>\n",
       "      <td>-7.855100</td>\n",
       "    </tr>\n",
       "    <tr>\n",
       "      <th>1</th>\n",
       "      <td>7.506749</td>\n",
       "      <td>-8.053214</td>\n",
       "    </tr>\n",
       "    <tr>\n",
       "      <th>2</th>\n",
       "      <td>7.697391</td>\n",
       "      <td>-8.211640</td>\n",
       "    </tr>\n",
       "    <tr>\n",
       "      <th>3</th>\n",
       "      <td>7.578619</td>\n",
       "      <td>-7.815121</td>\n",
       "    </tr>\n",
       "    <tr>\n",
       "      <th>4</th>\n",
       "      <td>7.580577</td>\n",
       "      <td>-7.658686</td>\n",
       "    </tr>\n",
       "  </tbody>\n",
       "</table>\n",
       "</div>"
      ],
      "text/plain": [
       "   Upper Bound  Lower Bound\n",
       "0     7.605216    -7.855100\n",
       "1     7.506749    -8.053214\n",
       "2     7.697391    -8.211640\n",
       "3     7.578619    -7.815121\n",
       "4     7.580577    -7.658686"
      ]
     },
     "execution_count": 24,
     "metadata": {},
     "output_type": "execute_result"
    }
   ],
   "source": [
    "# 模擬資料生成\n",
    "sim_airma11 = sim.airma(\n",
    "    phi=[0.3], theta=[-0.7], sigma=1, nsamples=1000, nsimulations=250\n",
    ")\n",
    "sim_airma11.head()"
   ]
  },
  {
   "cell_type": "code",
   "execution_count": 25,
   "metadata": {},
   "outputs": [
    {
     "data": {
      "image/png": "[encoded data removed]",
      "text/plain": [
       "<Figure size 1000x500 with 1 Axes>"
      ]
     },
     "metadata": {},
     "output_type": "display_data"
    }
   ],
   "source": [
    "# 自相關函數\n",
    "plot_acf(sim_airma11, n_sample=1000)"
   ]
  },
  {
   "cell_type": "code",
   "execution_count": 26,
   "metadata": {},
   "outputs": [
    {
     "data": {
      "image/png": "[encoded data removed]",
      "text/plain": [
       "<Figure size 1000x500 with 1 Axes>"
      ]
     },
     "metadata": {},
     "output_type": "display_data"
    }
   ],
   "source": [
    "# 局部自相關函數\n",
    "plot_pacf(sim_airma11, n_sample=1000)"
   ]
  },
  {
   "cell_type": "code",
   "execution_count": 27,
   "metadata": {},
   "outputs": [
    {
     "data": {
      "text/plain": [
       "Auto-Interval-Regressive Moving Averaging Model(order=(1,1), n=250)"
      ]
     },
     "execution_count": 27,
     "metadata": {},
     "output_type": "execute_result"
    }
   ],
   "source": [
    "# 模型配適\n",
    "model = AIRMA(endog=sim_airma11, order=(1,1), n_sample=1000)\n",
    "model.fit(iters=1000)\n",
    "model"
   ]
  },
  {
   "cell_type": "code",
   "execution_count": 28,
   "metadata": {},
   "outputs": [
    {
     "name": "stdout",
     "output_type": "stream",
     "text": [
      "                      AIRMA Model Results                       \n",
      "===============================================================\n",
      "Dep. Variable:    D.Upper Bound   No. Observations:      250   \n",
      "                  D.Lower Bound                                \n",
      "Model:              AIRMA(1, 1)   Log Likelihood:      -130.827\n",
      "Method:                     mle   AIC:                  267.655\n",
      "Optimizer:                  PSO   BIC:                  278.219\n",
      "Date:               Jun-04-2023   HQIC:                 271.907\n",
      "\n",
      "\n",
      "====================\n",
      "    Coefficients    \n",
      "--------------------\n",
      "ar.L1          0.346\n",
      "ma.L1         -0.652\n",
      "sigma          0.952\n"
     ]
    }
   ],
   "source": [
    "# 配適結果一覽表\n",
    "model.summary()"
   ]
  },
  {
   "cell_type": "code",
   "execution_count": 29,
   "metadata": {},
   "outputs": [
    {
     "data": {
      "application/vnd.plotly.v1+json": {
       "config": {
        "plotlyServerURL": "https://plot.ly"
       },
       "data": [
        {
         "line": {
          "color": "rgb(70,130,180)",
          "width": 3
         },
         "mode": "lines+markers",
         "name": "True Upper Bound",
         "type": "scatter",
         "x": [
          0,
          1,
          2,
          3,
          4,
          5,
          6,
          7,
          8,
          9,
          10,
          11,
          12,
          13,
          14,
          15,
          16,
          17,
          18,
          19,
          20,
          21,
          22,
          23,
          24,
          25,
          26,
          27,
          28,
          29,
          30,
          31,
          32,
          33,
          34,
          35,
          36,
          37,
          38,
          39,
          40,
          41,
          42,
          43,
          44,
          45,
          46,
          47,
          48,
          49,
          50,
          51,
          52,
          53,
          54,
          55,
          56,
          57,
          58,
          59,
          60,
          61,
          62,
          63,
          64,
          65,
          66,
          67,
          68,
          69,
          70,
          71,
          72,
          73,
          74,
          75,
          76,
          77,
          78,
          79,
          80,
          81,
          82,
          83,
          84,
          85,
          86,
          87,
          88,
          89,
          90,
          91,
          92,
          93,
          94,
          95,
          96,
          97,
          98,
          99,
          100,
          101,
          102,
          103,
          104,
          105,
          106,
          107,
          108,
          109,
          110,
          111,
          112,
          113,
          114,
          115,
          116,
          117,
          118,
          119,
          120,
          121,
          122,
          123,
          124,
          125,
          126,
          127,
          128,
          129,
          130,
          131,
          132,
          133,
          134,
          135,
          136,
          137,
          138,
          139,
          140,
          141,
          142,
          143,
          144,
          145,
          146,
          147,
          148,
          149,
          150,
          151,
          152,
          153,
          154,
          155,
          156,
          157,
          158,
          159,
          160,
          161,
          162,
          163,
          164,
          165,
          166,
          167,
          168,
          169,
          170,
          171,
          172,
          173,
          174,
          175,
          176,
          177,
          178,
          179,
          180,
          181,
          182,
          183,
          184,
          185,
          186,
          187,
          188,
          189,
          190,
          191,
          192,
          193,
          194,
          195,
          196,
          197,
          198,
          199,
          200,
          201,
          202,
          203,
          204,
          205,
          206,
          207,
          208,
          209,
          210,
          211,
          212,
          213,
          214,
          215,
          216,
          217,
          218,
          219,
          220,
          221,
          222,
          223,
          224,
          225,
          226,
          227,
          228,
          229,
          230,
          231,
          232,
          233,
          234,
          235,
          236,
          237,
          238,
          239,
          240,
          241,
          242,
          243,
          244,
          245,
          246,
          247,
          248,
          249
         ],
         "y": [
          7.605215611979126,
          7.506749434833727,
          7.697391051039989,
          7.578619368631499,
          7.580576801067488,
          7.914853549535095,
          9.063118287340359,
          8.929124296275601,
          9.772168650008092,
          9.133146858775987,
          8.553457945821927,
          8.354717524095275,
          7.9459293803931565,
          7.513814993312896,
          7.140235676080524,
          8.136206844483134,
          8.307874383639366,
          7.369770257277082,
          7.101951683652474,
          7.577629566232434,
          7.652441339354207,
          7.449686349870133,
          7.230979140498102,
          7.834528003719614,
          9.277529471345645,
          9.078942155528622,
          8.086793334391261,
          7.368762383197369,
          7.5076817608220505,
          7.543714064505123,
          6.875731700854421,
          6.845417688278918,
          7.25595334295806,
          7.4641566271794195,
          7.808237268298772,
          7.344498148725375,
          7.634423992661577,
          8.045324678877293,
          7.778520002168682,
          7.440319385184969,
          7.97661159846331,
          8.30617514475042,
          8.28083642544488,
          8.24748974523143,
          7.709737669317693,
          7.132900314343082,
          7.149772926482336,
          7.087222485674581,
          7.625640914595213,
          8.10400712146555,
          8.345028096946875,
          7.827159465318122,
          7.45239367233215,
          7.521122697191954,
          7.391036374500325,
          7.535034809374265,
          7.538515460148961,
          7.6516741510417,
          7.753974870348237,
          8.194172722304792,
          8.146023449058852,
          7.5757970556229415,
          7.447584418884476,
          8.310873151448938,
          8.764118608348825,
          8.813173843495063,
          8.834165580006095,
          8.490259123916944,
          7.678453606777158,
          7.6275094311125375,
          7.443395635950175,
          7.267501867648109,
          7.891454075929142,
          8.154460671774597,
          8.202389376569556,
          8.146308620674427,
          7.889332587440243,
          7.677699036047764,
          7.484057844080559,
          8.35970160763394,
          8.888911711171486,
          8.577433523788944,
          8.40897506337748,
          8.162316138992978,
          8.425043235029882,
          9.050359512816273,
          8.333290802493572,
          8.47795498748713,
          8.381625803641587,
          7.602727336535785,
          7.112818101741627,
          7.113193331107035,
          7.2654203211352915,
          7.520914602400954,
          8.26245359264318,
          8.32517413914642,
          8.267613918308058,
          8.361457941270144,
          8.247038636390059,
          7.95739474514224,
          7.560610041221151,
          7.659302612030801,
          8.016775918144518,
          7.701299852572144,
          8.12974439427136,
          7.98544716498511,
          7.594302343340228,
          8.062614775682752,
          7.717955322882838,
          7.4801322717889995,
          7.739578813021182,
          8.057229987719602,
          7.982082113299731,
          7.875347447873587,
          7.429983040227648,
          7.870600522677077,
          7.845268235881272,
          7.213312187641046,
          7.075209159805527,
          7.479981056279639,
          7.348361852366899,
          7.475547275854729,
          7.601781614184953,
          7.4937959288672245,
          7.456473681883118,
          7.298504585933578,
          7.355055663913383,
          7.424298478398995,
          7.719974682712294,
          7.8517165816582555,
          7.87194266103452,
          8.499120086646322,
          8.04187678339817,
          7.207192361158756,
          6.890258277962957,
          7.262183655238394,
          7.640648246077751,
          7.809919765715761,
          7.495239774824382,
          7.495713450740329,
          7.519095877835203,
          7.265211595632126,
          7.732502597254191,
          8.264148818964891,
          8.478742574993548,
          8.148450542365232,
          7.873750535204699,
          7.892060671534615,
          7.63448085833272,
          8.289180190939382,
          8.517732481408082,
          8.046174615768862,
          8.070517469015039,
          8.54444202874911,
          8.46699272502715,
          8.080925899745365,
          8.239561646696904,
          7.800749811298923,
          7.237896498980637,
          7.320238490546212,
          7.543492604570787,
          7.585619107214456,
          7.31015937932497,
          7.834823227016027,
          7.906614177391491,
          7.645631120553578,
          7.409832951697189,
          7.363141747135167,
          8.780265364740465,
          9.068369476423598,
          8.31052836492064,
          7.996213059141371,
          7.626100636593745,
          7.6459814180106935,
          8.032896001544037,
          8.407553902319986,
          7.88141187288402,
          7.2469024064885845,
          7.234356485923877,
          7.587646689178604,
          7.43982736339051,
          7.61468397845657,
          8.931381656579534,
          8.865061893038504,
          7.885556782595443,
          7.634682226590735,
          7.775403956038443,
          8.3203642574536,
          8.132980526065639,
          7.21783287935584,
          6.87913418805868,
          7.40440915634867,
          8.23114508685311,
          8.314930561824038,
          8.296668575015877,
          8.133364950562488,
          8.252740214281857,
          8.195645762655937,
          7.386903007148354,
          7.305235419706971,
          8.639604460294866,
          8.236296359759004,
          7.110831187470892,
          7.012479335572268,
          7.085388504569541,
          7.129794345512275,
          7.435116132993247,
          7.374239290001519,
          7.316740599266876,
          7.25160973710528,
          7.38228980161482,
          7.498297186308141,
          7.790096718176202,
          8.24345535388386,
          7.861079430907954,
          8.133695893500896,
          8.468350858711519,
          8.082704539554996,
          7.782513218236361,
          7.554048089153474,
          7.94505477961105,
          8.15692174136998,
          7.3976159179445204,
          7.378891286539929,
          7.93097603911913,
          7.55230352694946,
          7.438561895600152,
          7.396265605178927,
          7.379050670962122,
          7.341242778758625,
          7.657123394229518,
          8.479402248254923,
          8.383542218142306,
          7.8067177522816324,
          7.5845355592841965,
          7.66077114126002,
          7.82620006785171,
          7.270869207868939,
          7.487006701245528,
          7.772636871783794,
          7.196713975798478,
          6.863519875116203,
          7.330715208943728,
          8.529780306125875,
          8.595956243315465,
          7.945743294359961,
          7.510347091579614,
          7.413554537946976,
          7.781552033195723,
          8.477999305610004
         ]
        },
        {
         "line": {
          "color": "rgb(205,38,38)",
          "width": 3
         },
         "mode": "lines+markers",
         "name": "True Lower Bound",
         "type": "scatter",
         "x": [
          0,
          1,
          2,
          3,
          4,
          5,
          6,
          7,
          8,
          9,
          10,
          11,
          12,
          13,
          14,
          15,
          16,
          17,
          18,
          19,
          20,
          21,
          22,
          23,
          24,
          25,
          26,
          27,
          28,
          29,
          30,
          31,
          32,
          33,
          34,
          35,
          36,
          37,
          38,
          39,
          40,
          41,
          42,
          43,
          44,
          45,
          46,
          47,
          48,
          49,
          50,
          51,
          52,
          53,
          54,
          55,
          56,
          57,
          58,
          59,
          60,
          61,
          62,
          63,
          64,
          65,
          66,
          67,
          68,
          69,
          70,
          71,
          72,
          73,
          74,
          75,
          76,
          77,
          78,
          79,
          80,
          81,
          82,
          83,
          84,
          85,
          86,
          87,
          88,
          89,
          90,
          91,
          92,
          93,
          94,
          95,
          96,
          97,
          98,
          99,
          100,
          101,
          102,
          103,
          104,
          105,
          106,
          107,
          108,
          109,
          110,
          111,
          112,
          113,
          114,
          115,
          116,
          117,
          118,
          119,
          120,
          121,
          122,
          123,
          124,
          125,
          126,
          127,
          128,
          129,
          130,
          131,
          132,
          133,
          134,
          135,
          136,
          137,
          138,
          139,
          140,
          141,
          142,
          143,
          144,
          145,
          146,
          147,
          148,
          149,
          150,
          151,
          152,
          153,
          154,
          155,
          156,
          157,
          158,
          159,
          160,
          161,
          162,
          163,
          164,
          165,
          166,
          167,
          168,
          169,
          170,
          171,
          172,
          173,
          174,
          175,
          176,
          177,
          178,
          179,
          180,
          181,
          182,
          183,
          184,
          185,
          186,
          187,
          188,
          189,
          190,
          191,
          192,
          193,
          194,
          195,
          196,
          197,
          198,
          199,
          200,
          201,
          202,
          203,
          204,
          205,
          206,
          207,
          208,
          209,
          210,
          211,
          212,
          213,
          214,
          215,
          216,
          217,
          218,
          219,
          220,
          221,
          222,
          223,
          224,
          225,
          226,
          227,
          228,
          229,
          230,
          231,
          232,
          233,
          234,
          235,
          236,
          237,
          238,
          239,
          240,
          241,
          242,
          243,
          244,
          245,
          246,
          247,
          248,
          249
         ],
         "y": [
          -7.855099548228491,
          -8.053213655197299,
          -8.211639687982073,
          -7.815120845220464,
          -7.658686474864032,
          -7.063427155468339,
          -7.503395653588606,
          -7.331038982216681,
          -6.813283828925243,
          -7.328078432984798,
          -7.855795798798075,
          -8.223423385567315,
          -7.900314299120862,
          -7.487173709934774,
          -7.304478132394683,
          -7.1262634882544,
          -7.2967432817058855,
          -7.272331708025339,
          -7.261842436343297,
          -7.823367058707644,
          -8.370222924842544,
          -8.377127344823656,
          -8.128849710227527,
          -7.812591412238163,
          -7.5793386100857205,
          -7.7251421071053725,
          -7.959669790942705,
          -7.755118969389075,
          -7.275353722212637,
          -7.798408798176999,
          -7.805730134773857,
          -8.036826287883208,
          -8.419905293558621,
          -7.985325846204503,
          -7.204409305170822,
          -7.328440230357433,
          -7.845709944406715,
          -7.734601938218191,
          -7.309312943773221,
          -7.7308183191016,
          -8.345419728664575,
          -8.130047154460055,
          -7.821740590464135,
          -7.6283529193384725,
          -7.608814458402868,
          -7.531346330190951,
          -7.523440342318785,
          -7.3979909453556445,
          -7.351253004399544,
          -7.102815514040881,
          -7.006275086547621,
          -7.549094206076945,
          -7.4422822041227406,
          -7.947940855785919,
          -8.102202669460148,
          -7.916824058643672,
          -8.244732368232631,
          -8.20916918854184,
          -7.492846785688103,
          -7.147139631381842,
          -7.606444120938737,
          -7.958996621802326,
          -7.67386703136461,
          -7.2325004231540415,
          -7.212328349967074,
          -7.718266395498901,
          -8.125196334110111,
          -7.809564134877711,
          -7.471131071259997,
          -7.526193362619046,
          -7.904611245941642,
          -8.318410536067896,
          -8.03234079802148,
          -7.656643980811911,
          -8.470313540645531,
          -8.263574646461711,
          -7.851313206852344,
          -7.783546307875591,
          -8.272264561077765,
          -7.690139411926246,
          -7.425090349037457,
          -7.501323192398424,
          -7.556952980795099,
          -7.538519558949963,
          -7.434761281250226,
          -7.25376040724925,
          -7.191195710498635,
          -7.403194022003167,
          -7.653114669866384,
          -7.906263259592672,
          -7.7061861568035335,
          -7.317778430112463,
          -7.4382714718826755,
          -7.913280808894253,
          -7.787720816796347,
          -7.492966431103177,
          -7.637520816244507,
          -8.012667956191558,
          -8.677276631374706,
          -8.894428053456238,
          -8.501612509843929,
          -7.584980832244064,
          -7.58695801757627,
          -7.573212781499125,
          -7.688723403068138,
          -7.81472873048416,
          -7.494336369871899,
          -7.315988733944808,
          -7.757917626466325,
          -8.394108510813293,
          -8.369146725865976,
          -8.013207871549984,
          -8.111230108227216,
          -7.745166851566665,
          -7.137704579125099,
          -7.336500842627498,
          -7.586521518668061,
          -7.922261834423303,
          -8.084036146995807,
          -7.801522419728059,
          -7.627855635590471,
          -7.68025904073973,
          -7.912825012594624,
          -7.594029721734673,
          -7.926906028598301,
          -8.250391462160579,
          -8.372837236729875,
          -7.812901280728653,
          -7.828796744075708,
          -7.50632661411954,
          -7.219100830893726,
          -7.480971192904143,
          -7.529455252804137,
          -7.34711641047729,
          -7.219165085261683,
          -7.112782724802603,
          -7.052640785046743,
          -7.436440095973369,
          -7.772125490927292,
          -7.643230339564446,
          -7.47184910769598,
          -7.454855512371914,
          -7.5052306043228105,
          -7.156093519135589,
          -7.53320373986465,
          -7.75619668435065,
          -7.3944384179586935,
          -7.08151422503966,
          -7.594609490246128,
          -7.9565881166180095,
          -8.113992791414027,
          -7.420739192174143,
          -6.853798605112621,
          -7.7085012307313905,
          -7.867870215695018,
          -7.7174269342818205,
          -8.162543210343623,
          -8.454181324932733,
          -7.904020234525096,
          -7.807156033682585,
          -8.26364266409447,
          -8.034026784257051,
          -7.343729196593196,
          -7.047336176300751,
          -7.024976905730652,
          -7.297821991865556,
          -7.796861714466992,
          -7.597048986788851,
          -7.756830559637909,
          -7.829339992904782,
          -7.617596381118348,
          -7.716662315277885,
          -7.802310620227788,
          -7.757355980950858,
          -7.590781416021781,
          -8.049245201520925,
          -7.764924108037993,
          -7.078484476067891,
          -7.4711104946262274,
          -7.698360613912449,
          -7.960453916972499,
          -8.053463001485603,
          -7.475273002439018,
          -7.338533646274422,
          -7.369511750101685,
          -7.018923939231424,
          -6.766123225988819,
          -7.047023519590323,
          -7.362409903418985,
          -7.687119502872067,
          -7.530587866754566,
          -7.505730238847839,
          -7.8640093411852945,
          -8.973127983572208,
          -8.8902647391016,
          -7.974507689077356,
          -7.506265181742089,
          -7.701378906715278,
          -8.75256308868908,
          -9.14832968635043,
          -8.17914078999003,
          -8.275123505093966,
          -8.119064836243556,
          -8.14112931540415,
          -7.900500950703566,
          -7.828174685559078,
          -8.696005892990836,
          -8.468651516929985,
          -7.958363062938543,
          -8.19278556148203,
          -7.676977709898984,
          -7.4786897310172655,
          -7.142096273171457,
          -7.586248353426934,
          -7.981066286957249,
          -7.823720660205083,
          -8.995679709557857,
          -8.963325812899999,
          -8.557350550572576,
          -8.331479253264574,
          -7.712651604928943,
          -7.490030211659306,
          -7.855226410871579,
          -8.301435337592304,
          -8.403684508380405,
          -8.278846363386196,
          -8.345169596425507,
          -7.71883347902824,
          -7.034176029629643,
          -6.864745811676546,
          -6.988157700269739,
          -8.215954717189245,
          -8.501171481942153,
          -7.669953873354332,
          -7.036491366885164,
          -7.870262571615448,
          -8.32401713067083,
          -8.785916051158226,
          -8.538858849471346,
          -7.962044418516018,
          -7.578245153623085,
          -8.032155882569741,
          -8.331445778586179,
          -8.32237959279996,
          -7.751417057667805,
          -7.768337901995688,
          -8.208123725817588,
          -7.714008694439142,
          -7.1864877356606645,
          -7.292846210577707
         ]
        },
        {
         "line": {
          "color": "rgba(30,144,255,0.4)",
          "width": 3
         },
         "mode": "lines+markers",
         "name": "Fitted Upper Bound",
         "type": "scatter",
         "x": [
          0,
          1,
          2,
          3,
          4,
          5,
          6,
          7,
          8,
          9,
          10,
          11,
          12,
          13,
          14,
          15,
          16,
          17,
          18,
          19,
          20,
          21,
          22,
          23,
          24,
          25,
          26,
          27,
          28,
          29,
          30,
          31,
          32,
          33,
          34,
          35,
          36,
          37,
          38,
          39,
          40,
          41,
          42,
          43,
          44,
          45,
          46,
          47,
          48,
          49,
          50,
          51,
          52,
          53,
          54,
          55,
          56,
          57,
          58,
          59,
          60,
          61,
          62,
          63,
          64,
          65,
          66,
          67,
          68,
          69,
          70,
          71,
          72,
          73,
          74,
          75,
          76,
          77,
          78,
          79,
          80,
          81,
          82,
          83,
          84,
          85,
          86,
          87,
          88,
          89,
          90,
          91,
          92,
          93,
          94,
          95,
          96,
          97,
          98,
          99,
          100,
          101,
          102,
          103,
          104,
          105,
          106,
          107,
          108,
          109,
          110,
          111,
          112,
          113,
          114,
          115,
          116,
          117,
          118,
          119,
          120,
          121,
          122,
          123,
          124,
          125,
          126,
          127,
          128,
          129,
          130,
          131,
          132,
          133,
          134,
          135,
          136,
          137,
          138,
          139,
          140,
          141,
          142,
          143,
          144,
          145,
          146,
          147,
          148,
          149,
          150,
          151,
          152,
          153,
          154,
          155,
          156,
          157,
          158,
          159,
          160,
          161,
          162,
          163,
          164,
          165,
          166,
          167,
          168,
          169,
          170,
          171,
          172,
          173,
          174,
          175,
          176,
          177,
          178,
          179,
          180,
          181,
          182,
          183,
          184,
          185,
          186,
          187,
          188,
          189,
          190,
          191,
          192,
          193,
          194,
          195,
          196,
          197,
          198,
          199,
          200,
          201,
          202,
          203,
          204,
          205,
          206,
          207,
          208,
          209,
          210,
          211,
          212,
          213,
          214,
          215,
          216,
          217,
          218,
          219,
          220,
          221,
          222,
          223,
          224,
          225,
          226,
          227,
          228,
          229,
          230,
          231,
          232,
          233,
          234,
          235,
          236,
          237,
          238,
          239,
          240,
          241,
          242,
          243,
          244,
          245,
          246,
          247,
          248,
          249
         ],
         "y": [
          7.827027600383187,
          7.564979579136909,
          7.637595688848898,
          7.780588134678418,
          7.568715561234319,
          7.708877302664918,
          7.951232473196495,
          8.939714814081425,
          8.161118468535564,
          9.510809657006407,
          7.992308096660112,
          8.40401087997828,
          7.937004142251166,
          7.833452482046252,
          7.469522531029211,
          7.3338895388856375,
          8.416869105604498,
          7.881842401200914,
          7.294124561942047,
          7.41007626655967,
          7.809416850656094,
          7.623623475985232,
          7.542362474514398,
          7.376984940474411,
          8.087522856656836,
          9.064906279135801,
          8.22905170014411,
          7.783602629427882,
          7.357201232737508,
          7.774063116769292,
          7.538118013865377,
          7.025029379700579,
          7.3294542933712785,
          7.540805095940582,
          7.610834931243041,
          7.908727496574439,
          7.251352179065626,
          7.969665391497703,
          7.911396052933816,
          7.682994127327294,
          7.49428106847191,
          8.152883443212085,
          8.052346891357336,
          8.092626767321068,
          8.033054117142596,
          7.534953975752824,
          7.283883210805046,
          7.464507648834568,
          7.28422569135275,
          7.939451435172554,
          7.989701026001139,
          8.197588605409477,
          7.5448748952384825,
          7.596434517190847,
          7.631429325390808,
          7.478707015821859,
          7.722116105666961,
          7.5668127656163975,
          7.781111167519828,
          7.743471640844929,
          8.207573970912662,
          7.8567557152754555,
          7.5162123167894,
          7.61032931300125,
          8.410952983323764,
          8.341273890232742,
          8.435709447444717,
          8.395068747264009,
          8.078179201421337,
          7.47428031428546,
          7.817342136719196,
          7.409715862733854,
          7.49998096439269,
          8.064133214684905,
          7.958748754076833,
          8.075350508210954,
          7.943291524122156,
          7.772837697916284,
          7.6727050259324745,
          7.544666827517369,
          8.502542010990307,
          8.406138518685097,
          8.158004268427426,
          8.151655039616042,
          7.909501046079132,
          8.329801380932997,
          8.680029484803303,
          7.735558506180383,
          8.496100157008344,
          7.903801780575421,
          7.512414187649043,
          7.2785335650021015,
          7.431471565628323,
          7.4837109598410905,
          7.704752556388396,
          8.30101124034367,
          7.974692248350379,
          8.130078850218085,
          8.12242400237718,
          8.013166554801447,
          7.795219245483011,
          7.541188694793518,
          7.805443303678855,
          7.990013505098849,
          7.554604527302138,
          8.266440960340013,
          7.658016216647156,
          7.664330671135594,
          8.12783443351309,
          7.481333113844909,
          7.665581384141522,
          7.804458340676117,
          8.031050503083922,
          7.808204328870328,
          7.846992260463045,
          7.376981864118792,
          8.123544259381811,
          7.611257072216973,
          7.314403177299379,
          7.3701451253052745,
          7.737959739465947,
          7.366604186548141,
          7.735842288219779,
          7.621031984800476,
          7.588097557452992,
          7.572313822409731,
          7.424873295483134,
          7.577518435258814,
          7.547086899259149,
          7.862178550046894,
          7.788188119406685,
          7.8566493174001115,
          8.438245000790063,
          7.60229275806053,
          7.31413990018096,
          7.185638354430805,
          7.640839210847025,
          7.721813102323695,
          7.838015034696259,
          7.447998456244931,
          7.70288424097098,
          7.559966973483569,
          7.399683342422634,
          7.970841241989625,
          8.129130914571164,
          8.24015426489316,
          7.837926691475303,
          7.826009421945528,
          7.852066380912076,
          7.57786861035158,
          8.410466501262702,
          8.095567947649464,
          7.830116889202891,
          8.02758101664511,
          8.37199926318809,
          8.069995586053953,
          7.881498174743971,
          8.16285957750202,
          7.541158323409403,
          7.384677595137769,
          7.568972706003025,
          7.671679980191648,
          7.646747174708366,
          7.387957096730306,
          8.080660367215712,
          7.700486383072345,
          7.687880024728192,
          7.46065239807802,
          7.562253443735366,
          8.91101444087451,
          8.318880207055063,
          7.948411886831561,
          7.876220691632476,
          7.553744563867419,
          7.783951373291071,
          8.02012931019842,
          8.240173571529777,
          7.57126868832531,
          7.3740288634497375,
          7.490163481365436,
          7.7671773063255305,
          7.438876006049463,
          7.827630255186096,
          8.888799497061838,
          8.13036312120178,
          7.647038256280296,
          7.7118121521402845,
          7.810073803293748,
          8.290134224275585,
          7.789876890177089,
          7.2024012179104675,
          7.2474192193717295,
          7.742554811480685,
          8.245089946835,
          8.00094193200912,
          8.141967714305101,
          7.886911659544346,
          8.172487451954655,
          7.929192336922131,
          7.280345111741678,
          7.622049144148585,
          8.731555182994242,
          7.605096031954291,
          7.2160920234256345,
          7.371637305575842,
          7.342974924758177,
          7.406012208363645,
          7.669764330101804,
          7.436928253649127,
          7.531396192608088,
          7.404738601042455,
          7.61784658492574,
          7.59467006313112,
          7.901158211908578,
          8.153923056643377,
          7.607228504238146,
          8.236059346560276,
          8.160027067315571,
          7.824545507561156,
          7.7436351851417795,
          7.56828534916937,
          8.07309915763266,
          7.955357599974731,
          7.273974309929569,
          7.6997522956382545,
          7.973283578530615,
          7.416740769600358,
          7.666206640410076,
          7.461242857819756,
          7.577753774492579,
          7.463999998604496,
          7.853618469697969,
          8.42053326105299,
          7.955008626323018,
          7.682701311543459,
          7.6384758669734545,
          7.743448002547044,
          7.840158638946803,
          7.222560012987847,
          7.841246695833612,
          7.722878984418173,
          7.225017007072348,
          7.217075332431489,
          7.688763096924455,
          8.578374398409878,
          8.064148041085849,
          7.750329077390836,
          7.52028219722227,
          7.573694711805853,
          7.906308600600344
         ]
        },
        {
         "line": {
          "color": "rgba(255,165,0,0.4)",
          "width": 3
         },
         "mode": "lines+markers",
         "name": "Fitted Lower Bound",
         "type": "scatter",
         "x": [
          0,
          1,
          2,
          3,
          4,
          5,
          6,
          7,
          8,
          9,
          10,
          11,
          12,
          13,
          14,
          15,
          16,
          17,
          18,
          19,
          20,
          21,
          22,
          23,
          24,
          25,
          26,
          27,
          28,
          29,
          30,
          31,
          32,
          33,
          34,
          35,
          36,
          37,
          38,
          39,
          40,
          41,
          42,
          43,
          44,
          45,
          46,
          47,
          48,
          49,
          50,
          51,
          52,
          53,
          54,
          55,
          56,
          57,
          58,
          59,
          60,
          61,
          62,
          63,
          64,
          65,
          66,
          67,
          68,
          69,
          70,
          71,
          72,
          73,
          74,
          75,
          76,
          77,
          78,
          79,
          80,
          81,
          82,
          83,
          84,
          85,
          86,
          87,
          88,
          89,
          90,
          91,
          92,
          93,
          94,
          95,
          96,
          97,
          98,
          99,
          100,
          101,
          102,
          103,
          104,
          105,
          106,
          107,
          108,
          109,
          110,
          111,
          112,
          113,
          114,
          115,
          116,
          117,
          118,
          119,
          120,
          121,
          122,
          123,
          124,
          125,
          126,
          127,
          128,
          129,
          130,
          131,
          132,
          133,
          134,
          135,
          136,
          137,
          138,
          139,
          140,
          141,
          142,
          143,
          144,
          145,
          146,
          147,
          148,
          149,
          150,
          151,
          152,
          153,
          154,
          155,
          156,
          157,
          158,
          159,
          160,
          161,
          162,
          163,
          164,
          165,
          166,
          167,
          168,
          169,
          170,
          171,
          172,
          173,
          174,
          175,
          176,
          177,
          178,
          179,
          180,
          181,
          182,
          183,
          184,
          185,
          186,
          187,
          188,
          189,
          190,
          191,
          192,
          193,
          194,
          195,
          196,
          197,
          198,
          199,
          200,
          201,
          202,
          203,
          204,
          205,
          206,
          207,
          208,
          209,
          210,
          211,
          212,
          213,
          214,
          215,
          216,
          217,
          218,
          219,
          220,
          221,
          222,
          223,
          224,
          225,
          226,
          227,
          228,
          229,
          230,
          231,
          232,
          233,
          234,
          235,
          236,
          237,
          238,
          239,
          240,
          241,
          242,
          243,
          244,
          245,
          246,
          247,
          248,
          249
         ],
         "y": [
          -7.874070787178736,
          -7.783808645474633,
          -8.040510145799242,
          -8.031253194575998,
          -7.641356721674566,
          -7.739487187783487,
          -7.081092730831453,
          -7.949892431577488,
          -7.211060419472615,
          -7.176017328182363,
          -7.712912865789601,
          -7.889629245657078,
          -8.141441081097994,
          -7.654547744788989,
          -7.559622331629128,
          -7.439116866759928,
          -7.339771931504128,
          -7.574804637078047,
          -7.397114171341218,
          -7.502550112170762,
          -7.994470579307311,
          -8.21963508892209,
          -8.079651649206735,
          -7.923052635592324,
          -7.709411623320891,
          -7.61586309290771,
          -7.822474773060305,
          -7.921881630993516,
          -7.652787679802012,
          -7.349262398133244,
          -8.0695406120676,
          -7.607004468148731,
          -8.139478539680356,
          -8.17465374314934,
          -7.717769053189288,
          -7.236034277298989,
          -7.674124306221102,
          -7.904860518322673,
          -7.643403953150086,
          -7.389292733916303,
          -7.9759373711554336,
          -8.206957868614353,
          -7.841204839929285,
          -7.771937692582659,
          -7.62401866485315,
          -7.700998452824377,
          -7.5734295086908405,
          -7.648750018898383,
          -7.474352834795522,
          -7.541445238977026,
          -7.249608381447469,
          -7.343579044022527,
          -7.82430050315137,
          -7.404065039134391,
          -8.183103993838714,
          -7.828961548563461,
          -7.874867589700726,
          -8.172347899758261,
          -7.9427868789251,
          -7.377264976114366,
          -7.400964110905063,
          -7.844132946752553,
          -7.907081549283818,
          -7.581309681951012,
          -7.353098220840899,
          -7.481821111709824,
          -7.903046487207486,
          -8.034606447436367,
          -7.63362082477918,
          -7.557254216283978,
          -7.662050335186028,
          -7.971551083430746,
          -8.182849683319647,
          -7.759368450734145,
          -7.660467140225824,
          -8.537453022699367,
          -7.75894947038501,
          -7.8551229886465235,
          -7.724720671071951,
          -8.297782303640275,
          -7.34269899555826,
          -7.70105332996361,
          -7.5434147880640126,
          -7.701792290716291,
          -7.5800743430205895,
          -7.555867042487544,
          -7.390923455349329,
          -7.4360457090449135,
          -7.618297992975354,
          -7.748965092110281,
          -7.916505055747774,
          -7.607434138039435,
          -7.421209324187493,
          -7.6630017490361855,
          -7.979587259530488,
          -7.6476993952573915,
          -7.5698737880799625,
          -7.764981931804137,
          -8.01230506360919,
          -8.514602943749798,
          -8.403779236388232,
          -8.083833903986925,
          -7.377256559599884,
          -7.840140279199147,
          -7.524470310084983,
          -7.845726383891698,
          -7.761986697767654,
          -7.496690639061015,
          -7.4916616655674595,
          -7.936220205686778,
          -8.28148296358971,
          -8.031338622775584,
          -7.839096304933696,
          -8.062376311686016,
          -7.5512037396189,
          -7.2780804715135226,
          -7.654745777173321,
          -7.658694654594644,
          -7.9913646317927025,
          -7.935895819570749,
          -7.689981158499749,
          -7.676983409675865,
          -7.737788239742632,
          -7.930347949305995,
          -7.48641297592242,
          -8.108383530816738,
          -8.025673222278703,
          -8.201891667378703,
          -7.527830765872052,
          -7.98340137452675,
          -7.364231597832644,
          -7.481321174675148,
          -7.666426857874491,
          -7.594092710146277,
          -7.459206883524697,
          -7.419431739866404,
          -7.339151881035918,
          -7.331466090120302,
          -7.719713730447765,
          -7.801645865614384,
          -7.6194951539865485,
          -7.56718555115619,
          -7.584339205314382,
          -7.623450563115771,
          -7.249314802917691,
          -7.869923209444746,
          -7.687756951093055,
          -7.445360817941573,
          -7.291015559984881,
          -7.904036591704785,
          -7.865600676661344,
          -8.047845785410578,
          -7.236732303948242,
          -7.199726340558079,
          -8.077309733388615,
          -7.663985139846561,
          -7.783380334967859,
          -8.149958086827237,
          -8.202043354438006,
          -7.618716583951442,
          -7.902506551314151,
          -8.173201098519906,
          -7.76734584943329,
          -7.342809417478406,
          -7.323783435483303,
          -7.313867984368796,
          -7.5927792349415375,
          -7.909146657011474,
          -7.503257668932936,
          -7.927570518325513,
          -7.723188466090107,
          -7.64507771191929,
          -7.794950399250841,
          -7.782708700030568,
          -7.745805681276197,
          -7.603548737494819,
          -8.154133381674415,
          -7.511077588883206,
          -7.245122381971573,
          -7.810656177019362,
          -7.668666698076002,
          -8.022995578335745,
          -7.884734426957765,
          -7.397585430775044,
          -7.578820972564784,
          -7.491531192070049,
          -7.198399923090761,
          -7.1371847811779485,
          -7.457602821490495,
          -7.563511955627664,
          -7.81865748058921,
          -7.495921672362513,
          -7.681625350341887,
          -7.9182399390028895,
          -8.871378488851505,
          -8.166892798392555,
          -7.712029391262037,
          -7.541189674199952,
          -7.847456994914573,
          -8.697311034110431,
          -8.538124129501265,
          -7.674202185709075,
          -8.333590892014882,
          -7.747634352981373,
          -8.151893289127631,
          -7.6479160124080305,
          -7.904447088678223,
          -8.603661760953463,
          -7.92053552250283,
          -7.856610545320915,
          -8.132386897342187,
          -7.437446217005171,
          -7.692768952324468,
          -7.190120897737989,
          -7.961502647741861,
          -7.852556954766431,
          -7.7665097165142924,
          -8.992872569840973,
          -8.16059413304641,
          -8.298122616585259,
          -7.982872363357549,
          -7.570597820419465,
          -7.61723623689892,
          -7.951471785948925,
          -8.17899746650346,
          -8.132678144049422,
          -8.038238531590492,
          -8.166068260324412,
          -7.457269562128313,
          -7.235978851930394,
          -7.211148911875966,
          -7.350575942994071,
          -8.485614780885747,
          -8.030011152394701,
          -7.4972137331161095,
          -7.2122346854290535,
          -8.230673499452587,
          -8.019419152482557,
          -8.618441762098609,
          -7.9809982787582,
          -7.820845849634772,
          -7.542081274552496,
          -8.177165242547625,
          -8.061740981328908,
          -8.127980870094435,
          -7.514650048022821,
          -7.93162951944155,
          -8.098766636526777,
          -7.49635359353449,
          -7.362571238852723
         ]
        }
       ],
       "layout": {
        "hovermode": "x",
        "template": {
         "data": {
          "bar": [
           {
            "error_x": {
             "color": "#2a3f5f"
            },
            "error_y": {
             "color": "#2a3f5f"
            },
            "marker": {
             "line": {
              "color": "#E5ECF6",
              "width": 0.5
             },
             "pattern": {
              "fillmode": "overlay",
              "size": 10,
              "solidity": 0.2
             }
            },
            "type": "bar"
           }
          ],
          "barpolar": [
           {
            "marker": {
             "line": {
              "color": "#E5ECF6",
              "width": 0.5
             },
             "pattern": {
              "fillmode": "overlay",
              "size": 10,
              "solidity": 0.2
             }
            },
            "type": "barpolar"
           }
          ],
          "carpet": [
           {
            "aaxis": {
             "endlinecolor": "#2a3f5f",
             "gridcolor": "white",
             "linecolor": "white",
             "minorgridcolor": "white",
             "startlinecolor": "#2a3f5f"
            },
            "baxis": {
             "endlinecolor": "#2a3f5f",
             "gridcolor": "white",
             "linecolor": "white",
             "minorgridcolor": "white",
             "startlinecolor": "#2a3f5f"
            },
            "type": "carpet"
           }
          ],
          "choropleth": [
           {
            "colorbar": {
             "outlinewidth": 0,
             "ticks": ""
            },
            "type": "choropleth"
           }
          ],
          "contour": [
           {
            "colorbar": {
             "outlinewidth": 0,
             "ticks": ""
            },
            "colorscale": [
             [
              0,
              "#0d0887"
             ],
             [
              0.1111111111111111,
              "#46039f"
             ],
             [
              0.2222222222222222,
              "#7201a8"
             ],
             [
              0.3333333333333333,
              "#9c179e"
             ],
             [
              0.4444444444444444,
              "#bd3786"
             ],
             [
              0.5555555555555556,
              "#d8576b"
             ],
             [
              0.6666666666666666,
              "#ed7953"
             ],
             [
              0.7777777777777778,
              "#fb9f3a"
             ],
             [
              0.8888888888888888,
              "#fdca26"
             ],
             [
              1,
              "#f0f921"
             ]
            ],
            "type": "contour"
           }
          ],
          "contourcarpet": [
           {
            "colorbar": {
             "outlinewidth": 0,
             "ticks": ""
            },
            "type": "contourcarpet"
           }
          ],
          "heatmap": [
           {
            "colorbar": {
             "outlinewidth": 0,
             "ticks": ""
            },
            "colorscale": [
             [
              0,
              "#0d0887"
             ],
             [
              0.1111111111111111,
              "#46039f"
             ],
             [
              0.2222222222222222,
              "#7201a8"
             ],
             [
              0.3333333333333333,
              "#9c179e"
             ],
             [
              0.4444444444444444,
              "#bd3786"
             ],
             [
              0.5555555555555556,
              "#d8576b"
             ],
             [
              0.6666666666666666,
              "#ed7953"
             ],
             [
              0.7777777777777778,
              "#fb9f3a"
             ],
             [
              0.8888888888888888,
              "#fdca26"
             ],
             [
              1,
              "#f0f921"
             ]
            ],
            "type": "heatmap"
           }
          ],
          "heatmapgl": [
           {
            "colorbar": {
             "outlinewidth": 0,
             "ticks": ""
            },
            "colorscale": [
             [
              0,
              "#0d0887"
             ],
             [
              0.1111111111111111,
              "#46039f"
             ],
             [
              0.2222222222222222,
              "#7201a8"
             ],
             [
              0.3333333333333333,
              "#9c179e"
             ],
             [
              0.4444444444444444,
              "#bd3786"
             ],
             [
              0.5555555555555556,
              "#d8576b"
             ],
             [
              0.6666666666666666,
              "#ed7953"
             ],
             [
              0.7777777777777778,
              "#fb9f3a"
             ],
             [
              0.8888888888888888,
              "#fdca26"
             ],
             [
              1,
              "#f0f921"
             ]
            ],
            "type": "heatmapgl"
           }
          ],
          "histogram": [
           {
            "marker": {
             "pattern": {
              "fillmode": "overlay",
              "size": 10,
              "solidity": 0.2
             }
            },
            "type": "histogram"
           }
          ],
          "histogram2d": [
           {
            "colorbar": {
             "outlinewidth": 0,
             "ticks": ""
            },
            "colorscale": [
             [
              0,
              "#0d0887"
             ],
             [
              0.1111111111111111,
              "#46039f"
             ],
             [
              0.2222222222222222,
              "#7201a8"
             ],
             [
              0.3333333333333333,
              "#9c179e"
             ],
             [
              0.4444444444444444,
              "#bd3786"
             ],
             [
              0.5555555555555556,
              "#d8576b"
             ],
             [
              0.6666666666666666,
              "#ed7953"
             ],
             [
              0.7777777777777778,
              "#fb9f3a"
             ],
             [
              0.8888888888888888,
              "#fdca26"
             ],
             [
              1,
              "#f0f921"
             ]
            ],
            "type": "histogram2d"
           }
          ],
          "histogram2dcontour": [
           {
            "colorbar": {
             "outlinewidth": 0,
             "ticks": ""
            },
            "colorscale": [
             [
              0,
              "#0d0887"
             ],
             [
              0.1111111111111111,
              "#46039f"
             ],
             [
              0.2222222222222222,
              "#7201a8"
             ],
             [
              0.3333333333333333,
              "#9c179e"
             ],
             [
              0.4444444444444444,
              "#bd3786"
             ],
             [
              0.5555555555555556,
              "#d8576b"
             ],
             [
              0.6666666666666666,
              "#ed7953"
             ],
             [
              0.7777777777777778,
              "#fb9f3a"
             ],
             [
              0.8888888888888888,
              "#fdca26"
             ],
             [
              1,
              "#f0f921"
             ]
            ],
            "type": "histogram2dcontour"
           }
          ],
          "mesh3d": [
           {
            "colorbar": {
             "outlinewidth": 0,
             "ticks": ""
            },
            "type": "mesh3d"
           }
          ],
          "parcoords": [
           {
            "line": {
             "colorbar": {
              "outlinewidth": 0,
              "ticks": ""
             }
            },
            "type": "parcoords"
           }
          ],
          "pie": [
           {
            "automargin": true,
            "type": "pie"
           }
          ],
          "scatter": [
           {
            "fillpattern": {
             "fillmode": "overlay",
             "size": 10,
             "solidity": 0.2
            },
            "type": "scatter"
           }
          ],
          "scatter3d": [
           {
            "line": {
             "colorbar": {
              "outlinewidth": 0,
              "ticks": ""
             }
            },
            "marker": {
             "colorbar": {
              "outlinewidth": 0,
              "ticks": ""
             }
            },
            "type": "scatter3d"
           }
          ],
          "scattercarpet": [
           {
            "marker": {
             "colorbar": {
              "outlinewidth": 0,
              "ticks": ""
             }
            },
            "type": "scattercarpet"
           }
          ],
          "scattergeo": [
           {
            "marker": {
             "colorbar": {
              "outlinewidth": 0,
              "ticks": ""
             }
            },
            "type": "scattergeo"
           }
          ],
          "scattergl": [
           {
            "marker": {
             "colorbar": {
              "outlinewidth": 0,
              "ticks": ""
             }
            },
            "type": "scattergl"
           }
          ],
          "scattermapbox": [
           {
            "marker": {
             "colorbar": {
              "outlinewidth": 0,
              "ticks": ""
             }
            },
            "type": "scattermapbox"
           }
          ],
          "scatterpolar": [
           {
            "marker": {
             "colorbar": {
              "outlinewidth": 0,
              "ticks": ""
             }
            },
            "type": "scatterpolar"
           }
          ],
          "scatterpolargl": [
           {
            "marker": {
             "colorbar": {
              "outlinewidth": 0,
              "ticks": ""
             }
            },
            "type": "scatterpolargl"
           }
          ],
          "scatterternary": [
           {
            "marker": {
             "colorbar": {
              "outlinewidth": 0,
              "ticks": ""
             }
            },
            "type": "scatterternary"
           }
          ],
          "surface": [
           {
            "colorbar": {
             "outlinewidth": 0,
             "ticks": ""
            },
            "colorscale": [
             [
              0,
              "#0d0887"
             ],
             [
              0.1111111111111111,
              "#46039f"
             ],
             [
              0.2222222222222222,
              "#7201a8"
             ],
             [
              0.3333333333333333,
              "#9c179e"
             ],
             [
              0.4444444444444444,
              "#bd3786"
             ],
             [
              0.5555555555555556,
              "#d8576b"
             ],
             [
              0.6666666666666666,
              "#ed7953"
             ],
             [
              0.7777777777777778,
              "#fb9f3a"
             ],
             [
              0.8888888888888888,
              "#fdca26"
             ],
             [
              1,
              "#f0f921"
             ]
            ],
            "type": "surface"
           }
          ],
          "table": [
           {
            "cells": {
             "fill": {
              "color": "#EBF0F8"
             },
             "line": {
              "color": "white"
             }
            },
            "header": {
             "fill": {
              "color": "#C8D4E3"
             },
             "line": {
              "color": "white"
             }
            },
            "type": "table"
           }
          ]
         },
         "layout": {
          "annotationdefaults": {
           "arrowcolor": "#2a3f5f",
           "arrowhead": 0,
           "arrowwidth": 1
          },
          "autotypenumbers": "strict",
          "coloraxis": {
           "colorbar": {
            "outlinewidth": 0,
            "ticks": ""
           }
          },
          "colorscale": {
           "diverging": [
            [
             0,
             "#8e0152"
            ],
            [
             0.1,
             "#c51b7d"
            ],
            [
             0.2,
             "#de77ae"
            ],
            [
             0.3,
             "#f1b6da"
            ],
            [
             0.4,
             "#fde0ef"
            ],
            [
             0.5,
             "#f7f7f7"
            ],
            [
             0.6,
             "#e6f5d0"
            ],
            [
             0.7,
             "#b8e186"
            ],
            [
             0.8,
             "#7fbc41"
            ],
            [
             0.9,
             "#4d9221"
            ],
            [
             1,
             "#276419"
            ]
           ],
           "sequential": [
            [
             0,
             "#0d0887"
            ],
            [
             0.1111111111111111,
             "#46039f"
            ],
            [
             0.2222222222222222,
             "#7201a8"
            ],
            [
             0.3333333333333333,
             "#9c179e"
            ],
            [
             0.4444444444444444,
             "#bd3786"
            ],
            [
             0.5555555555555556,
             "#d8576b"
            ],
            [
             0.6666666666666666,
             "#ed7953"
            ],
            [
             0.7777777777777778,
             "#fb9f3a"
            ],
            [
             0.8888888888888888,
             "#fdca26"
            ],
            [
             1,
             "#f0f921"
            ]
           ],
           "sequentialminus": [
            [
             0,
             "#0d0887"
            ],
            [
             0.1111111111111111,
             "#46039f"
            ],
            [
             0.2222222222222222,
             "#7201a8"
            ],
            [
             0.3333333333333333,
             "#9c179e"
            ],
            [
             0.4444444444444444,
             "#bd3786"
            ],
            [
             0.5555555555555556,
             "#d8576b"
            ],
            [
             0.6666666666666666,
             "#ed7953"
            ],
            [
             0.7777777777777778,
             "#fb9f3a"
            ],
            [
             0.8888888888888888,
             "#fdca26"
            ],
            [
             1,
             "#f0f921"
            ]
           ]
          },
          "colorway": [
           "#636efa",
           "#EF553B",
           "#00cc96",
           "#ab63fa",
           "#FFA15A",
           "#19d3f3",
           "#FF6692",
           "#B6E880",
           "#FF97FF",
           "#FECB52"
          ],
          "font": {
           "color": "#2a3f5f"
          },
          "geo": {
           "bgcolor": "white",
           "lakecolor": "white",
           "landcolor": "#E5ECF6",
           "showlakes": true,
           "showland": true,
           "subunitcolor": "white"
          },
          "hoverlabel": {
           "align": "left"
          },
          "hovermode": "closest",
          "mapbox": {
           "style": "light"
          },
          "paper_bgcolor": "white",
          "plot_bgcolor": "#E5ECF6",
          "polar": {
           "angularaxis": {
            "gridcolor": "white",
            "linecolor": "white",
            "ticks": ""
           },
           "bgcolor": "#E5ECF6",
           "radialaxis": {
            "gridcolor": "white",
            "linecolor": "white",
            "ticks": ""
           }
          },
          "scene": {
           "xaxis": {
            "backgroundcolor": "#E5ECF6",
            "gridcolor": "white",
            "gridwidth": 2,
            "linecolor": "white",
            "showbackground": true,
            "ticks": "",
            "zerolinecolor": "white"
           },
           "yaxis": {
            "backgroundcolor": "#E5ECF6",
            "gridcolor": "white",
            "gridwidth": 2,
            "linecolor": "white",
            "showbackground": true,
            "ticks": "",
            "zerolinecolor": "white"
           },
           "zaxis": {
            "backgroundcolor": "#E5ECF6",
            "gridcolor": "white",
            "gridwidth": 2,
            "linecolor": "white",
            "showbackground": true,
            "ticks": "",
            "zerolinecolor": "white"
           }
          },
          "shapedefaults": {
           "line": {
            "color": "#2a3f5f"
           }
          },
          "ternary": {
           "aaxis": {
            "gridcolor": "white",
            "linecolor": "white",
            "ticks": ""
           },
           "baxis": {
            "gridcolor": "white",
            "linecolor": "white",
            "ticks": ""
           },
           "bgcolor": "#E5ECF6",
           "caxis": {
            "gridcolor": "white",
            "linecolor": "white",
            "ticks": ""
           }
          },
          "title": {
           "x": 0.05
          },
          "xaxis": {
           "automargin": true,
           "gridcolor": "white",
           "linecolor": "white",
           "ticks": "",
           "title": {
            "standoff": 15
           },
           "zerolinecolor": "white",
           "zerolinewidth": 2
          },
          "yaxis": {
           "automargin": true,
           "gridcolor": "white",
           "linecolor": "white",
           "ticks": "",
           "title": {
            "standoff": 15
           },
           "zerolinecolor": "white",
           "zerolinewidth": 2
          }
         }
        },
        "title": {
         "text": "Model Fitting Result"
        },
        "xaxis": {
         "rangeslider": {
          "visible": true
         },
         "title": {
          "text": "lags"
         }
        },
        "yaxis": {
         "title": {
          "text": "Trend"
         }
        }
       }
      }
     },
     "metadata": {},
     "output_type": "display_data"
    }
   ],
   "source": [
    "# 配適結果視覺化\n",
    "model.fitted_check()"
   ]
  },
  {
   "cell_type": "code",
   "execution_count": 30,
   "metadata": {},
   "outputs": [
    {
     "data": {
      "text/html": [
       "<div>\n",
       "<style scoped>\n",
       "    .dataframe tbody tr th:only-of-type {\n",
       "        vertical-align: middle;\n",
       "    }\n",
       "\n",
       "    .dataframe tbody tr th {\n",
       "        vertical-align: top;\n",
       "    }\n",
       "\n",
       "    .dataframe thead th {\n",
       "        text-align: right;\n",
       "    }\n",
       "</style>\n",
       "<table border=\"1\" class=\"dataframe\">\n",
       "  <thead>\n",
       "    <tr style=\"text-align: right;\">\n",
       "      <th></th>\n",
       "      <th>Upper Bound</th>\n",
       "      <th>Lower Bound</th>\n",
       "    </tr>\n",
       "  </thead>\n",
       "  <tbody>\n",
       "    <tr>\n",
       "      <th>0</th>\n",
       "      <td>8.384762</td>\n",
       "      <td>-7.556041</td>\n",
       "    </tr>\n",
       "    <tr>\n",
       "      <th>1</th>\n",
       "      <td>7.979561</td>\n",
       "      <td>-7.692645</td>\n",
       "    </tr>\n",
       "    <tr>\n",
       "      <th>2</th>\n",
       "      <td>7.839274</td>\n",
       "      <td>-7.739940</td>\n",
       "    </tr>\n",
       "    <tr>\n",
       "      <th>3</th>\n",
       "      <td>7.790705</td>\n",
       "      <td>-7.756314</td>\n",
       "    </tr>\n",
       "    <tr>\n",
       "      <th>4</th>\n",
       "      <td>7.773889</td>\n",
       "      <td>-7.761983</td>\n",
       "    </tr>\n",
       "  </tbody>\n",
       "</table>\n",
       "</div>"
      ],
      "text/plain": [
       "   Upper Bound  Lower Bound\n",
       "0     8.384762    -7.556041\n",
       "1     7.979561    -7.692645\n",
       "2     7.839274    -7.739940\n",
       "3     7.790705    -7.756314\n",
       "4     7.773889    -7.761983"
      ]
     },
     "execution_count": 30,
     "metadata": {},
     "output_type": "execute_result"
    }
   ],
   "source": [
    "# 模型預測\n",
    "model.predict(step=5)"
   ]
  },
  {
   "cell_type": "code",
   "execution_count": 31,
   "metadata": {},
   "outputs": [
    {
     "data": {
      "text/html": [
       "<div>\n",
       "<style scoped>\n",
       "    .dataframe tbody tr th:only-of-type {\n",
       "        vertical-align: middle;\n",
       "    }\n",
       "\n",
       "    .dataframe tbody tr th {\n",
       "        vertical-align: top;\n",
       "    }\n",
       "\n",
       "    .dataframe thead th {\n",
       "        text-align: right;\n",
       "    }\n",
       "</style>\n",
       "<table border=\"1\" class=\"dataframe\">\n",
       "  <thead>\n",
       "    <tr style=\"text-align: right;\">\n",
       "      <th></th>\n",
       "      <th>Upper Bound</th>\n",
       "      <th>Lower Bound</th>\n",
       "    </tr>\n",
       "  </thead>\n",
       "  <tbody>\n",
       "    <tr>\n",
       "      <th>0</th>\n",
       "      <td>7.827028</td>\n",
       "      <td>-7.874071</td>\n",
       "    </tr>\n",
       "    <tr>\n",
       "      <th>1</th>\n",
       "      <td>7.564980</td>\n",
       "      <td>-7.783809</td>\n",
       "    </tr>\n",
       "    <tr>\n",
       "      <th>2</th>\n",
       "      <td>7.637596</td>\n",
       "      <td>-8.040510</td>\n",
       "    </tr>\n",
       "    <tr>\n",
       "      <th>3</th>\n",
       "      <td>7.780588</td>\n",
       "      <td>-8.031253</td>\n",
       "    </tr>\n",
       "    <tr>\n",
       "      <th>4</th>\n",
       "      <td>7.568716</td>\n",
       "      <td>-7.641357</td>\n",
       "    </tr>\n",
       "  </tbody>\n",
       "</table>\n",
       "</div>"
      ],
      "text/plain": [
       "   Upper Bound  Lower Bound\n",
       "0     7.827028    -7.874071\n",
       "1     7.564980    -7.783809\n",
       "2     7.637596    -8.040510\n",
       "3     7.780588    -8.031253\n",
       "4     7.568716    -7.641357"
      ]
     },
     "execution_count": 31,
     "metadata": {},
     "output_type": "execute_result"
    }
   ],
   "source": [
    "# 提取配適數值\n",
    "model.fitted_values().head()"
   ]
  },
  {
   "cell_type": "code",
   "execution_count": 32,
   "metadata": {},
   "outputs": [
    {
     "data": {
      "text/html": [
       "<div>\n",
       "<style scoped>\n",
       "    .dataframe tbody tr th:only-of-type {\n",
       "        vertical-align: middle;\n",
       "    }\n",
       "\n",
       "    .dataframe tbody tr th {\n",
       "        vertical-align: top;\n",
       "    }\n",
       "\n",
       "    .dataframe thead th {\n",
       "        text-align: right;\n",
       "    }\n",
       "</style>\n",
       "<table border=\"1\" class=\"dataframe\">\n",
       "  <thead>\n",
       "    <tr style=\"text-align: right;\">\n",
       "      <th></th>\n",
       "      <th>Upper Bound</th>\n",
       "      <th>Lower Bound</th>\n",
       "    </tr>\n",
       "  </thead>\n",
       "  <tbody>\n",
       "    <tr>\n",
       "      <th>0</th>\n",
       "      <td>2.850629</td>\n",
       "      <td>-3.053470</td>\n",
       "    </tr>\n",
       "    <tr>\n",
       "      <th>1</th>\n",
       "      <td>3.014211</td>\n",
       "      <td>-3.341846</td>\n",
       "    </tr>\n",
       "    <tr>\n",
       "      <th>2</th>\n",
       "      <td>3.132237</td>\n",
       "      <td>-3.243571</td>\n",
       "    </tr>\n",
       "    <tr>\n",
       "      <th>3</th>\n",
       "      <td>2.870473</td>\n",
       "      <td>-2.856309</td>\n",
       "    </tr>\n",
       "    <tr>\n",
       "      <th>4</th>\n",
       "      <td>3.084303</td>\n",
       "      <td>-3.089771</td>\n",
       "    </tr>\n",
       "  </tbody>\n",
       "</table>\n",
       "</div>"
      ],
      "text/plain": [
       "   Upper Bound  Lower Bound\n",
       "0     2.850629    -3.053470\n",
       "1     3.014211    -3.341846\n",
       "2     3.132237    -3.243571\n",
       "3     2.870473    -2.856309\n",
       "4     3.084303    -3.089771"
      ]
     },
     "execution_count": 32,
     "metadata": {},
     "output_type": "execute_result"
    }
   ],
   "source": [
    "# 提取模型殘差\n",
    "model.residuals().head()"
   ]
  },
  {
   "attachments": {},
   "cell_type": "markdown",
   "metadata": {},
   "source": [
    "## 區間相關性視覺化\n",
    "最後一小節中，我們生成高度相關的區間時間序列，並使用蒲`公英圖(dandelion plot)`與`線段圖(segment plot)`進行視覺化。"
   ]
  },
  {
   "cell_type": "code",
   "execution_count": 33,
   "metadata": {},
   "outputs": [],
   "source": [
    "ts1 = sim.ivma(params=[0.5], sigma=1, nsamples=1000, nsimulations=100)\n",
    "\n",
    "# 在ts1中心與全距資料中，參入微小的高斯雜訊，創造高相關性的ts2\n",
    "randomized_ts1 = refactor_interval(ts1, standard=False) + np.random.normal(scale=0.5, size=(100, 2))\n",
    "ts2 = pd.DataFrame()\n",
    "ts2[\"Upper Bound\"] = randomized_ts1[\"Central\"] + randomized_ts1[\"Range\"]\n",
    "ts2[\"Lower Bound\"] = randomized_ts1[\"Central\"] - randomized_ts1[\"Range\"]\n"
   ]
  },
  {
   "cell_type": "code",
   "execution_count": 34,
   "metadata": {},
   "outputs": [
    {
     "name": "stdout",
     "output_type": "stream",
     "text": [
      "\n",
      "\n",
      "                       Statistic Details                        \n",
      "================================================================\n",
      "    Term       Horizontal   Vertical    Diagonal    Off_Diagonal\n",
      "================================================================\n",
      "  Expected       1.128       1.128       1.128         1.128    \n",
      "    Data         0.730       0.703       0.786         0.650    \n",
      "================================================================\n",
      "Related corr     rho_cc      rho_rr    cross_corr    cross_corr \n",
      "\n",
      "\n"
     ]
    }
   ],
   "source": [
    "values = interval_correlation(ts1, ts2)"
   ]
  },
  {
   "cell_type": "code",
   "execution_count": 35,
   "metadata": {},
   "outputs": [
    {
     "data": {
      "application/vnd.plotly.v1+json": {
       "config": {
        "plotlyServerURL": "https://plot.ly"
       },
       "data": [
        {
         "marker": {
          "color": "rgba(30,144,255,0.8)",
          "line": {
           "color": "rgb(28,28,28)",
           "width": 2
          },
          "size": 8
         },
         "mode": "markers",
         "name": "ts1",
         "type": "scatter",
         "x": [
          0
         ],
         "y": [
          0
         ]
        },
        {
         "marker": {
          "color": "green",
          "line": {
           "color": "rgb(28,28,28)",
           "width": 2
          },
          "size": 8
         },
         "mode": "markers",
         "name": "ts2",
         "type": "scatter",
         "x": [
          -0.14314237098347737,
          -2.321960415458174,
          -0.9758711119043705,
          1.8628441985372923,
          -0.9693008508700112,
          0.3097517814656353,
          0.8680202066307842,
          0.777720957382267,
          0.4131905356702771,
          1.1894825905569584,
          0.9521201867637181,
          1.211840354915751,
          -0.8795063561441564,
          0.19332541549619098,
          0.6001801960648881,
          -0.09403439830542759,
          -0.4523930021322835,
          0.5693608274704705,
          0.6978422799441577,
          0.4274159868677211,
          -0.5869820479915673,
          -1.2463173305130222,
          3.2603099362183823,
          -1.4072421227576648,
          -0.2140688135108807,
          -1.4311816328778375,
          -1.2067706657518056,
          -0.25081066673986585,
          0.13009617240412552,
          0.5152451586287382,
          -0.6149180002128496,
          0.7580050949385955,
          -0.32603814788621466,
          1.1942569404076628,
          0.2189141764330725,
          0.03667186732031419,
          -0.6738202782239346,
          -0.335143508952338,
          0.09203148121508054,
          -0.36080654253569633,
          -0.11302553566621881,
          -0.8691105193221381,
          0.15733521424568686,
          1.3003541329514965,
          1.8628997081563905,
          -0.4559955587276145,
          -0.29187869398819616,
          -0.4902960958701512,
          -0.32573691685725725,
          0.5473081829693505,
          -1.4725574327102566,
          -0.4918161853112337,
          0.5567747065081302,
          1.4211553444726321,
          -0.8059712242557218,
          1.5233144033750567,
          0.30439492467305607,
          -1.5469606257631507,
          0.971695840589616,
          0.7389240085659583,
          -0.6618385678575909,
          0.16203895656590583,
          2.9581782069000937,
          -1.1053460802288768,
          -1.053743889336899,
          0.5041432115427661,
          0.09839919270552233,
          0.8376357502812167,
          0.7320270439938598,
          -0.5733361857022784,
          0.09457573408043896,
          -0.5257045308989485,
          -0.6964937745227662,
          -0.3660400938348884,
          -0.2561849220230943,
          -0.10097755576930667,
          -1.179502226336219,
          0.5970820071479768,
          0.39978660613746536,
          1.6124487015030988,
          -0.8024223944791156,
          -0.002393917346459773,
          -0.2392081608462067,
          0.28871545778962304,
          -1.094615726555942,
          -0.04879668732605391,
          -0.8510007193146392,
          -0.03644634470473007,
          -0.10745207137422352,
          -0.6922497022349607,
          -0.8726444643325444,
          -0.3916577021390871,
          1.001409145664546,
          0.6206797786364149,
          0.13618821908813417,
          0.5774272372051737,
          -2.4067059081267166,
          -0.27217716368976785,
          0.23315850785558656,
          -0.8260807277324473
         ],
         "y": [
          0.06887007964280648,
          0.8961362629240427,
          0.7857556595441941,
          0.26652037217954816,
          -0.4591290829063558,
          0.5956193732384343,
          -0.10230587750153664,
          -0.5273686179057934,
          0.7750238714850349,
          -1.2340892082096184,
          1.374664132580995,
          0.16853202865166084,
          -0.28265055438599407,
          0.09126587055395213,
          0.5922556992121438,
          -0.5242253866488662,
          -0.41641746502704047,
          -0.22718640501840748,
          -0.2539518451993139,
          0.7484076096041807,
          0.44348917508032315,
          -0.6841583885815126,
          -1.1042282514781956,
          0.32078550804807743,
          0.5688194797812414,
          0.05418272942192105,
          0.34638763633301045,
          -0.030001775987143653,
          1.9712439401595385,
          1.4143224509212668,
          1.5667495384070738,
          -0.6000305151694367,
          0.5831063646682741,
          -0.6545733010303304,
          0.39824335312087,
          -0.9502561993763079,
          -1.5089421351276444,
          0.41680695505332527,
          -0.5881907674443784,
          -0.685714047030779,
          0.1874083787267189,
          -0.5567466514416098,
          0.9656425402619283,
          -0.7344947196386235,
          -0.4382595605555343,
          0.1431248526962754,
          0.7003329485111336,
          -1.8949380803456704,
          -0.9978711617444711,
          0.032189805028513374,
          -0.03841670758810456,
          -0.29205211639813056,
          -0.8906671675940014,
          -1.4684368227040179,
          0.3013010688119424,
          -1.3546755072645364,
          -0.11368082057408024,
          -0.6401610466740011,
          1.2367027222798035,
          0.792533094337484,
          1.5258026139466758,
          -1.4375499356351926,
          -1.5112975180687156,
          1.9648807489600306,
          -1.3190272091631003,
          0.6158102160664314,
          0.424320834653214,
          -0.09218809301225062,
          -0.5783294031796804,
          -0.27846422766848034,
          -1.524722080758512,
          0.36325455241534865,
          0.46045360795266976,
          -1.6114808624056072,
          0.3893098051350681,
          0.2140553666537076,
          0.47044470147876705,
          -0.4400460356115867,
          -0.09863544501190935,
          0.6221408516629674,
          0.7038375653785494,
          2.2464331207287893,
          -1.1938244319281905,
          0.01875561761138375,
          1.309889736499068,
          -1.5113924739715743,
          1.1126090717458157,
          0.23401874659150668,
          0.8324625737367206,
          0.12252201809749014,
          -0.23439931394211327,
          1.6138620432630288,
          0.1503836471866793,
          -1.4167929590140562,
          0.2723553766784277,
          0.16251698639997508,
          -0.8284540337568842,
          0.24434111770659972,
          -0.7970547288755457,
          0.24659451674010258
         ]
        },
        {
         "line": {
          "color": "rgba(0,0,0,1)",
          "width": 3
         },
         "mode": "lines+markers",
         "name": "Expect Length",
         "type": "scatter",
         "x": [
          -1.1283791670955126,
          -1.1283791670955126,
          1.1283791670955126,
          1.1283791670955126,
          -1.1283791670955126
         ],
         "y": [
          -1.1283791670955126,
          1.1283791670955126,
          1.1283791670955126,
          -1.1283791670955126,
          -1.1283791670955126
         ]
        },
        {
         "line": {
          "color": "rgba(255,0,0,1)",
          "width": 3
         },
         "mode": "lines+markers",
         "name": "Actual Length",
         "type": "scatter",
         "x": [
          -0.7303335313787455,
          -0.7859158191537599,
          0,
          0.6495746963023433,
          0.7303335313787455,
          0.7859158191537599,
          0,
          -0.6495746963023433,
          -0.7303335313787455
         ],
         "y": [
          0,
          0.7859158191537599,
          0.7025495787710958,
          0.6495746963023433,
          0,
          -0.7859158191537599,
          -0.7025495787710958,
          -0.6495746963023433,
          0
         ]
        },
        {
         "line": {
          "color": "rgba(0,0,255,0.2)",
          "dash": "dot",
          "width": 2
         },
         "mode": "lines",
         "showlegend": false,
         "type": "scatter",
         "x": [
          -13,
          13
         ],
         "y": [
          13,
          -13
         ]
        },
        {
         "line": {
          "color": "rgba(0,0,255,0.2)",
          "dash": "dot",
          "width": 2
         },
         "mode": "lines",
         "showlegend": false,
         "type": "scatter",
         "x": [
          13,
          -13
         ],
         "y": [
          13,
          -13
         ]
        },
        {
         "line": {
          "color": "rgba(0,0,255,0.2)",
          "dash": "dot",
          "width": 2
         },
         "mode": "lines",
         "showlegend": false,
         "type": "scatter",
         "x": [
          13,
          -13
         ],
         "y": [
          0,
          0
         ]
        },
        {
         "line": {
          "color": "rgba(0,0,255,0.2)",
          "dash": "dot",
          "width": 2
         },
         "mode": "lines",
         "showlegend": false,
         "type": "scatter",
         "x": [
          0,
          0
         ],
         "y": [
          13,
          -13
         ]
        }
       ],
       "layout": {
        "shapes": [
         {
          "line": {
           "color": "rgba(112,128,114,0.25)",
           "width": 2
          },
          "type": "line",
          "x0": 0,
          "x1": -0.14314237098347737,
          "y0": 0,
          "y1": 0.06887007964280648
         },
         {
          "line": {
           "color": "rgba(112,128,114,0.25)",
           "width": 2
          },
          "type": "line",
          "x0": 0,
          "x1": -2.321960415458174,
          "y0": 0,
          "y1": 0.8961362629240427
         },
         {
          "line": {
           "color": "rgba(112,128,114,0.25)",
           "width": 2
          },
          "type": "line",
          "x0": 0,
          "x1": -0.9758711119043705,
          "y0": 0,
          "y1": 0.7857556595441941
         },
         {
          "line": {
           "color": "rgba(112,128,114,0.25)",
           "width": 2
          },
          "type": "line",
          "x0": 0,
          "x1": 1.8628441985372923,
          "y0": 0,
          "y1": 0.26652037217954816
         },
         {
          "line": {
           "color": "rgba(112,128,114,0.25)",
           "width": 2
          },
          "type": "line",
          "x0": 0,
          "x1": -0.9693008508700112,
          "y0": 0,
          "y1": -0.4591290829063558
         },
         {
          "line": {
           "color": "rgba(112,128,114,0.25)",
           "width": 2
          },
          "type": "line",
          "x0": 0,
          "x1": 0.3097517814656353,
          "y0": 0,
          "y1": 0.5956193732384343
         },
         {
          "line": {
           "color": "rgba(112,128,114,0.25)",
           "width": 2
          },
          "type": "line",
          "x0": 0,
          "x1": 0.8680202066307842,
          "y0": 0,
          "y1": -0.10230587750153664
         },
         {
          "line": {
           "color": "rgba(112,128,114,0.25)",
           "width": 2
          },
          "type": "line",
          "x0": 0,
          "x1": 0.777720957382267,
          "y0": 0,
          "y1": -0.5273686179057934
         },
         {
          "line": {
           "color": "rgba(112,128,114,0.25)",
           "width": 2
          },
          "type": "line",
          "x0": 0,
          "x1": 0.4131905356702771,
          "y0": 0,
          "y1": 0.7750238714850349
         },
         {
          "line": {
           "color": "rgba(112,128,114,0.25)",
           "width": 2
          },
          "type": "line",
          "x0": 0,
          "x1": 1.1894825905569584,
          "y0": 0,
          "y1": -1.2340892082096184
         },
         {
          "line": {
           "color": "rgba(112,128,114,0.25)",
           "width": 2
          },
          "type": "line",
          "x0": 0,
          "x1": 0.9521201867637181,
          "y0": 0,
          "y1": 1.374664132580995
         },
         {
          "line": {
           "color": "rgba(112,128,114,0.25)",
           "width": 2
          },
          "type": "line",
          "x0": 0,
          "x1": 1.211840354915751,
          "y0": 0,
          "y1": 0.16853202865166084
         },
         {
          "line": {
           "color": "rgba(112,128,114,0.25)",
           "width": 2
          },
          "type": "line",
          "x0": 0,
          "x1": -0.8795063561441564,
          "y0": 0,
          "y1": -0.28265055438599407
         },
         {
          "line": {
           "color": "rgba(112,128,114,0.25)",
           "width": 2
          },
          "type": "line",
          "x0": 0,
          "x1": 0.19332541549619098,
          "y0": 0,
          "y1": 0.09126587055395213
         },
         {
          "line": {
           "color": "rgba(112,128,114,0.25)",
           "width": 2
          },
          "type": "line",
          "x0": 0,
          "x1": 0.6001801960648881,
          "y0": 0,
          "y1": 0.5922556992121438
         },
         {
          "line": {
           "color": "rgba(112,128,114,0.25)",
           "width": 2
          },
          "type": "line",
          "x0": 0,
          "x1": -0.09403439830542759,
          "y0": 0,
          "y1": -0.5242253866488662
         },
         {
          "line": {
           "color": "rgba(112,128,114,0.25)",
           "width": 2
          },
          "type": "line",
          "x0": 0,
          "x1": -0.4523930021322835,
          "y0": 0,
          "y1": -0.41641746502704047
         },
         {
          "line": {
           "color": "rgba(112,128,114,0.25)",
           "width": 2
          },
          "type": "line",
          "x0": 0,
          "x1": 0.5693608274704705,
          "y0": 0,
          "y1": -0.22718640501840748
         },
         {
          "line": {
           "color": "rgba(112,128,114,0.25)",
           "width": 2
          },
          "type": "line",
          "x0": 0,
          "x1": 0.6978422799441577,
          "y0": 0,
          "y1": -0.2539518451993139
         },
         {
          "line": {
           "color": "rgba(112,128,114,0.25)",
           "width": 2
          },
          "type": "line",
          "x0": 0,
          "x1": 0.4274159868677211,
          "y0": 0,
          "y1": 0.7484076096041807
         },
         {
          "line": {
           "color": "rgba(112,128,114,0.25)",
           "width": 2
          },
          "type": "line",
          "x0": 0,
          "x1": -0.5869820479915673,
          "y0": 0,
          "y1": 0.44348917508032315
         },
         {
          "line": {
           "color": "rgba(112,128,114,0.25)",
           "width": 2
          },
          "type": "line",
          "x0": 0,
          "x1": -1.2463173305130222,
          "y0": 0,
          "y1": -0.6841583885815126
         },
         {
          "line": {
           "color": "rgba(112,128,114,0.25)",
           "width": 2
          },
          "type": "line",
          "x0": 0,
          "x1": 3.2603099362183823,
          "y0": 0,
          "y1": -1.1042282514781956
         },
         {
          "line": {
           "color": "rgba(112,128,114,0.25)",
           "width": 2
          },
          "type": "line",
          "x0": 0,
          "x1": -1.4072421227576648,
          "y0": 0,
          "y1": 0.32078550804807743
         },
         {
          "line": {
           "color": "rgba(112,128,114,0.25)",
           "width": 2
          },
          "type": "line",
          "x0": 0,
          "x1": -0.2140688135108807,
          "y0": 0,
          "y1": 0.5688194797812414
         },
         {
          "line": {
           "color": "rgba(112,128,114,0.25)",
           "width": 2
          },
          "type": "line",
          "x0": 0,
          "x1": -1.4311816328778375,
          "y0": 0,
          "y1": 0.05418272942192105
         },
         {
          "line": {
           "color": "rgba(112,128,114,0.25)",
           "width": 2
          },
          "type": "line",
          "x0": 0,
          "x1": -1.2067706657518056,
          "y0": 0,
          "y1": 0.34638763633301045
         },
         {
          "line": {
           "color": "rgba(112,128,114,0.25)",
           "width": 2
          },
          "type": "line",
          "x0": 0,
          "x1": -0.25081066673986585,
          "y0": 0,
          "y1": -0.030001775987143653
         },
         {
          "line": {
           "color": "rgba(112,128,114,0.25)",
           "width": 2
          },
          "type": "line",
          "x0": 0,
          "x1": 0.13009617240412552,
          "y0": 0,
          "y1": 1.9712439401595385
         },
         {
          "line": {
           "color": "rgba(112,128,114,0.25)",
           "width": 2
          },
          "type": "line",
          "x0": 0,
          "x1": 0.5152451586287382,
          "y0": 0,
          "y1": 1.4143224509212668
         },
         {
          "line": {
           "color": "rgba(112,128,114,0.25)",
           "width": 2
          },
          "type": "line",
          "x0": 0,
          "x1": -0.6149180002128496,
          "y0": 0,
          "y1": 1.5667495384070738
         },
         {
          "line": {
           "color": "rgba(112,128,114,0.25)",
           "width": 2
          },
          "type": "line",
          "x0": 0,
          "x1": 0.7580050949385955,
          "y0": 0,
          "y1": -0.6000305151694367
         },
         {
          "line": {
           "color": "rgba(112,128,114,0.25)",
           "width": 2
          },
          "type": "line",
          "x0": 0,
          "x1": -0.32603814788621466,
          "y0": 0,
          "y1": 0.5831063646682741
         },
         {
          "line": {
           "color": "rgba(112,128,114,0.25)",
           "width": 2
          },
          "type": "line",
          "x0": 0,
          "x1": 1.1942569404076628,
          "y0": 0,
          "y1": -0.6545733010303304
         },
         {
          "line": {
           "color": "rgba(112,128,114,0.25)",
           "width": 2
          },
          "type": "line",
          "x0": 0,
          "x1": 0.2189141764330725,
          "y0": 0,
          "y1": 0.39824335312087
         },
         {
          "line": {
           "color": "rgba(112,128,114,0.25)",
           "width": 2
          },
          "type": "line",
          "x0": 0,
          "x1": 0.03667186732031419,
          "y0": 0,
          "y1": -0.9502561993763079
         },
         {
          "line": {
           "color": "rgba(112,128,114,0.25)",
           "width": 2
          },
          "type": "line",
          "x0": 0,
          "x1": -0.6738202782239346,
          "y0": 0,
          "y1": -1.5089421351276444
         },
         {
          "line": {
           "color": "rgba(112,128,114,0.25)",
           "width": 2
          },
          "type": "line",
          "x0": 0,
          "x1": -0.335143508952338,
          "y0": 0,
          "y1": 0.41680695505332527
         },
         {
          "line": {
           "color": "rgba(112,128,114,0.25)",
           "width": 2
          },
          "type": "line",
          "x0": 0,
          "x1": 0.09203148121508054,
          "y0": 0,
          "y1": -0.5881907674443784
         },
         {
          "line": {
           "color": "rgba(112,128,114,0.25)",
           "width": 2
          },
          "type": "line",
          "x0": 0,
          "x1": -0.36080654253569633,
          "y0": 0,
          "y1": -0.685714047030779
         },
         {
          "line": {
           "color": "rgba(112,128,114,0.25)",
           "width": 2
          },
          "type": "line",
          "x0": 0,
          "x1": -0.11302553566621881,
          "y0": 0,
          "y1": 0.1874083787267189
         },
         {
          "line": {
           "color": "rgba(112,128,114,0.25)",
           "width": 2
          },
          "type": "line",
          "x0": 0,
          "x1": -0.8691105193221381,
          "y0": 0,
          "y1": -0.5567466514416098
         },
         {
          "line": {
           "color": "rgba(112,128,114,0.25)",
           "width": 2
          },
          "type": "line",
          "x0": 0,
          "x1": 0.15733521424568686,
          "y0": 0,
          "y1": 0.9656425402619283
         },
         {
          "line": {
           "color": "rgba(112,128,114,0.25)",
           "width": 2
          },
          "type": "line",
          "x0": 0,
          "x1": 1.3003541329514965,
          "y0": 0,
          "y1": -0.7344947196386235
         },
         {
          "line": {
           "color": "rgba(112,128,114,0.25)",
           "width": 2
          },
          "type": "line",
          "x0": 0,
          "x1": 1.8628997081563905,
          "y0": 0,
          "y1": -0.4382595605555343
         },
         {
          "line": {
           "color": "rgba(112,128,114,0.25)",
           "width": 2
          },
          "type": "line",
          "x0": 0,
          "x1": -0.4559955587276145,
          "y0": 0,
          "y1": 0.1431248526962754
         },
         {
          "line": {
           "color": "rgba(112,128,114,0.25)",
           "width": 2
          },
          "type": "line",
          "x0": 0,
          "x1": -0.29187869398819616,
          "y0": 0,
          "y1": 0.7003329485111336
         },
         {
          "line": {
           "color": "rgba(112,128,114,0.25)",
           "width": 2
          },
          "type": "line",
          "x0": 0,
          "x1": -0.4902960958701512,
          "y0": 0,
          "y1": -1.8949380803456704
         },
         {
          "line": {
           "color": "rgba(112,128,114,0.25)",
           "width": 2
          },
          "type": "line",
          "x0": 0,
          "x1": -0.32573691685725725,
          "y0": 0,
          "y1": -0.9978711617444711
         },
         {
          "line": {
           "color": "rgba(112,128,114,0.25)",
           "width": 2
          },
          "type": "line",
          "x0": 0,
          "x1": 0.5473081829693505,
          "y0": 0,
          "y1": 0.032189805028513374
         },
         {
          "line": {
           "color": "rgba(112,128,114,0.25)",
           "width": 2
          },
          "type": "line",
          "x0": 0,
          "x1": -1.4725574327102566,
          "y0": 0,
          "y1": -0.03841670758810456
         },
         {
          "line": {
           "color": "rgba(112,128,114,0.25)",
           "width": 2
          },
          "type": "line",
          "x0": 0,
          "x1": -0.4918161853112337,
          "y0": 0,
          "y1": -0.29205211639813056
         },
         {
          "line": {
           "color": "rgba(112,128,114,0.25)",
           "width": 2
          },
          "type": "line",
          "x0": 0,
          "x1": 0.5567747065081302,
          "y0": 0,
          "y1": -0.8906671675940014
         },
         {
          "line": {
           "color": "rgba(112,128,114,0.25)",
           "width": 2
          },
          "type": "line",
          "x0": 0,
          "x1": 1.4211553444726321,
          "y0": 0,
          "y1": -1.4684368227040179
         },
         {
          "line": {
           "color": "rgba(112,128,114,0.25)",
           "width": 2
          },
          "type": "line",
          "x0": 0,
          "x1": -0.8059712242557218,
          "y0": 0,
          "y1": 0.3013010688119424
         },
         {
          "line": {
           "color": "rgba(112,128,114,0.25)",
           "width": 2
          },
          "type": "line",
          "x0": 0,
          "x1": 1.5233144033750567,
          "y0": 0,
          "y1": -1.3546755072645364
         },
         {
          "line": {
           "color": "rgba(112,128,114,0.25)",
           "width": 2
          },
          "type": "line",
          "x0": 0,
          "x1": 0.30439492467305607,
          "y0": 0,
          "y1": -0.11368082057408024
         },
         {
          "line": {
           "color": "rgba(112,128,114,0.25)",
           "width": 2
          },
          "type": "line",
          "x0": 0,
          "x1": -1.5469606257631507,
          "y0": 0,
          "y1": -0.6401610466740011
         },
         {
          "line": {
           "color": "rgba(112,128,114,0.25)",
           "width": 2
          },
          "type": "line",
          "x0": 0,
          "x1": 0.971695840589616,
          "y0": 0,
          "y1": 1.2367027222798035
         },
         {
          "line": {
           "color": "rgba(112,128,114,0.25)",
           "width": 2
          },
          "type": "line",
          "x0": 0,
          "x1": 0.7389240085659583,
          "y0": 0,
          "y1": 0.792533094337484
         },
         {
          "line": {
           "color": "rgba(112,128,114,0.25)",
           "width": 2
          },
          "type": "line",
          "x0": 0,
          "x1": -0.6618385678575909,
          "y0": 0,
          "y1": 1.5258026139466758
         },
         {
          "line": {
           "color": "rgba(112,128,114,0.25)",
           "width": 2
          },
          "type": "line",
          "x0": 0,
          "x1": 0.16203895656590583,
          "y0": 0,
          "y1": -1.4375499356351926
         },
         {
          "line": {
           "color": "rgba(112,128,114,0.25)",
           "width": 2
          },
          "type": "line",
          "x0": 0,
          "x1": 2.9581782069000937,
          "y0": 0,
          "y1": -1.5112975180687156
         },
         {
          "line": {
           "color": "rgba(112,128,114,0.25)",
           "width": 2
          },
          "type": "line",
          "x0": 0,
          "x1": -1.1053460802288768,
          "y0": 0,
          "y1": 1.9648807489600306
         },
         {
          "line": {
           "color": "rgba(112,128,114,0.25)",
           "width": 2
          },
          "type": "line",
          "x0": 0,
          "x1": -1.053743889336899,
          "y0": 0,
          "y1": -1.3190272091631003
         },
         {
          "line": {
           "color": "rgba(112,128,114,0.25)",
           "width": 2
          },
          "type": "line",
          "x0": 0,
          "x1": 0.5041432115427661,
          "y0": 0,
          "y1": 0.6158102160664314
         },
         {
          "line": {
           "color": "rgba(112,128,114,0.25)",
           "width": 2
          },
          "type": "line",
          "x0": 0,
          "x1": 0.09839919270552233,
          "y0": 0,
          "y1": 0.424320834653214
         },
         {
          "line": {
           "color": "rgba(112,128,114,0.25)",
           "width": 2
          },
          "type": "line",
          "x0": 0,
          "x1": 0.8376357502812167,
          "y0": 0,
          "y1": -0.09218809301225062
         },
         {
          "line": {
           "color": "rgba(112,128,114,0.25)",
           "width": 2
          },
          "type": "line",
          "x0": 0,
          "x1": 0.7320270439938598,
          "y0": 0,
          "y1": -0.5783294031796804
         },
         {
          "line": {
           "color": "rgba(112,128,114,0.25)",
           "width": 2
          },
          "type": "line",
          "x0": 0,
          "x1": -0.5733361857022784,
          "y0": 0,
          "y1": -0.27846422766848034
         },
         {
          "line": {
           "color": "rgba(112,128,114,0.25)",
           "width": 2
          },
          "type": "line",
          "x0": 0,
          "x1": 0.09457573408043896,
          "y0": 0,
          "y1": -1.524722080758512
         },
         {
          "line": {
           "color": "rgba(112,128,114,0.25)",
           "width": 2
          },
          "type": "line",
          "x0": 0,
          "x1": -0.5257045308989485,
          "y0": 0,
          "y1": 0.36325455241534865
         },
         {
          "line": {
           "color": "rgba(112,128,114,0.25)",
           "width": 2
          },
          "type": "line",
          "x0": 0,
          "x1": -0.6964937745227662,
          "y0": 0,
          "y1": 0.46045360795266976
         },
         {
          "line": {
           "color": "rgba(112,128,114,0.25)",
           "width": 2
          },
          "type": "line",
          "x0": 0,
          "x1": -0.3660400938348884,
          "y0": 0,
          "y1": -1.6114808624056072
         },
         {
          "line": {
           "color": "rgba(112,128,114,0.25)",
           "width": 2
          },
          "type": "line",
          "x0": 0,
          "x1": -0.2561849220230943,
          "y0": 0,
          "y1": 0.3893098051350681
         },
         {
          "line": {
           "color": "rgba(112,128,114,0.25)",
           "width": 2
          },
          "type": "line",
          "x0": 0,
          "x1": -0.10097755576930667,
          "y0": 0,
          "y1": 0.2140553666537076
         },
         {
          "line": {
           "color": "rgba(112,128,114,0.25)",
           "width": 2
          },
          "type": "line",
          "x0": 0,
          "x1": -1.179502226336219,
          "y0": 0,
          "y1": 0.47044470147876705
         },
         {
          "line": {
           "color": "rgba(112,128,114,0.25)",
           "width": 2
          },
          "type": "line",
          "x0": 0,
          "x1": 0.5970820071479768,
          "y0": 0,
          "y1": -0.4400460356115867
         },
         {
          "line": {
           "color": "rgba(112,128,114,0.25)",
           "width": 2
          },
          "type": "line",
          "x0": 0,
          "x1": 0.39978660613746536,
          "y0": 0,
          "y1": -0.09863544501190935
         },
         {
          "line": {
           "color": "rgba(112,128,114,0.25)",
           "width": 2
          },
          "type": "line",
          "x0": 0,
          "x1": 1.6124487015030988,
          "y0": 0,
          "y1": 0.6221408516629674
         },
         {
          "line": {
           "color": "rgba(112,128,114,0.25)",
           "width": 2
          },
          "type": "line",
          "x0": 0,
          "x1": -0.8024223944791156,
          "y0": 0,
          "y1": 0.7038375653785494
         },
         {
          "line": {
           "color": "rgba(112,128,114,0.25)",
           "width": 2
          },
          "type": "line",
          "x0": 0,
          "x1": -0.002393917346459773,
          "y0": 0,
          "y1": 2.2464331207287893
         },
         {
          "line": {
           "color": "rgba(112,128,114,0.25)",
           "width": 2
          },
          "type": "line",
          "x0": 0,
          "x1": -0.2392081608462067,
          "y0": 0,
          "y1": -1.1938244319281905
         },
         {
          "line": {
           "color": "rgba(112,128,114,0.25)",
           "width": 2
          },
          "type": "line",
          "x0": 0,
          "x1": 0.28871545778962304,
          "y0": 0,
          "y1": 0.01875561761138375
         },
         {
          "line": {
           "color": "rgba(112,128,114,0.25)",
           "width": 2
          },
          "type": "line",
          "x0": 0,
          "x1": -1.094615726555942,
          "y0": 0,
          "y1": 1.309889736499068
         },
         {
          "line": {
           "color": "rgba(112,128,114,0.25)",
           "width": 2
          },
          "type": "line",
          "x0": 0,
          "x1": -0.04879668732605391,
          "y0": 0,
          "y1": -1.5113924739715743
         },
         {
          "line": {
           "color": "rgba(112,128,114,0.25)",
           "width": 2
          },
          "type": "line",
          "x0": 0,
          "x1": -0.8510007193146392,
          "y0": 0,
          "y1": 1.1126090717458157
         },
         {
          "line": {
           "color": "rgba(112,128,114,0.25)",
           "width": 2
          },
          "type": "line",
          "x0": 0,
          "x1": -0.03644634470473007,
          "y0": 0,
          "y1": 0.23401874659150668
         },
         {
          "line": {
           "color": "rgba(112,128,114,0.25)",
           "width": 2
          },
          "type": "line",
          "x0": 0,
          "x1": -0.10745207137422352,
          "y0": 0,
          "y1": 0.8324625737367206
         },
         {
          "line": {
           "color": "rgba(112,128,114,0.25)",
           "width": 2
          },
          "type": "line",
          "x0": 0,
          "x1": -0.6922497022349607,
          "y0": 0,
          "y1": 0.12252201809749014
         },
         {
          "line": {
           "color": "rgba(112,128,114,0.25)",
           "width": 2
          },
          "type": "line",
          "x0": 0,
          "x1": -0.8726444643325444,
          "y0": 0,
          "y1": -0.23439931394211327
         },
         {
          "line": {
           "color": "rgba(112,128,114,0.25)",
           "width": 2
          },
          "type": "line",
          "x0": 0,
          "x1": -0.3916577021390871,
          "y0": 0,
          "y1": 1.6138620432630288
         },
         {
          "line": {
           "color": "rgba(112,128,114,0.25)",
           "width": 2
          },
          "type": "line",
          "x0": 0,
          "x1": 1.001409145664546,
          "y0": 0,
          "y1": 0.1503836471866793
         },
         {
          "line": {
           "color": "rgba(112,128,114,0.25)",
           "width": 2
          },
          "type": "line",
          "x0": 0,
          "x1": 0.6206797786364149,
          "y0": 0,
          "y1": -1.4167929590140562
         },
         {
          "line": {
           "color": "rgba(112,128,114,0.25)",
           "width": 2
          },
          "type": "line",
          "x0": 0,
          "x1": 0.13618821908813417,
          "y0": 0,
          "y1": 0.2723553766784277
         },
         {
          "line": {
           "color": "rgba(112,128,114,0.25)",
           "width": 2
          },
          "type": "line",
          "x0": 0,
          "x1": 0.5774272372051737,
          "y0": 0,
          "y1": 0.16251698639997508
         },
         {
          "line": {
           "color": "rgba(112,128,114,0.25)",
           "width": 2
          },
          "type": "line",
          "x0": 0,
          "x1": -2.4067059081267166,
          "y0": 0,
          "y1": -0.8284540337568842
         },
         {
          "line": {
           "color": "rgba(112,128,114,0.25)",
           "width": 2
          },
          "type": "line",
          "x0": 0,
          "x1": -0.27217716368976785,
          "y0": 0,
          "y1": 0.24434111770659972
         },
         {
          "line": {
           "color": "rgba(112,128,114,0.25)",
           "width": 2
          },
          "type": "line",
          "x0": 0,
          "x1": 0.23315850785558656,
          "y0": 0,
          "y1": -0.7970547288755457
         },
         {
          "line": {
           "color": "rgba(112,128,114,0.25)",
           "width": 2
          },
          "type": "line",
          "x0": 0,
          "x1": -0.8260807277324473,
          "y0": 0,
          "y1": 0.24659451674010258
         }
        ],
        "template": {
         "data": {
          "bar": [
           {
            "error_x": {
             "color": "#2a3f5f"
            },
            "error_y": {
             "color": "#2a3f5f"
            },
            "marker": {
             "line": {
              "color": "#E5ECF6",
              "width": 0.5
             },
             "pattern": {
              "fillmode": "overlay",
              "size": 10,
              "solidity": 0.2
             }
            },
            "type": "bar"
           }
          ],
          "barpolar": [
           {
            "marker": {
             "line": {
              "color": "#E5ECF6",
              "width": 0.5
             },
             "pattern": {
              "fillmode": "overlay",
              "size": 10,
              "solidity": 0.2
             }
            },
            "type": "barpolar"
           }
          ],
          "carpet": [
           {
            "aaxis": {
             "endlinecolor": "#2a3f5f",
             "gridcolor": "white",
             "linecolor": "white",
             "minorgridcolor": "white",
             "startlinecolor": "#2a3f5f"
            },
            "baxis": {
             "endlinecolor": "#2a3f5f",
             "gridcolor": "white",
             "linecolor": "white",
             "minorgridcolor": "white",
             "startlinecolor": "#2a3f5f"
            },
            "type": "carpet"
           }
          ],
          "choropleth": [
           {
            "colorbar": {
             "outlinewidth": 0,
             "ticks": ""
            },
            "type": "choropleth"
           }
          ],
          "contour": [
           {
            "colorbar": {
             "outlinewidth": 0,
             "ticks": ""
            },
            "colorscale": [
             [
              0,
              "#0d0887"
             ],
             [
              0.1111111111111111,
              "#46039f"
             ],
             [
              0.2222222222222222,
              "#7201a8"
             ],
             [
              0.3333333333333333,
              "#9c179e"
             ],
             [
              0.4444444444444444,
              "#bd3786"
             ],
             [
              0.5555555555555556,
              "#d8576b"
             ],
             [
              0.6666666666666666,
              "#ed7953"
             ],
             [
              0.7777777777777778,
              "#fb9f3a"
             ],
             [
              0.8888888888888888,
              "#fdca26"
             ],
             [
              1,
              "#f0f921"
             ]
            ],
            "type": "contour"
           }
          ],
          "contourcarpet": [
           {
            "colorbar": {
             "outlinewidth": 0,
             "ticks": ""
            },
            "type": "contourcarpet"
           }
          ],
          "heatmap": [
           {
            "colorbar": {
             "outlinewidth": 0,
             "ticks": ""
            },
            "colorscale": [
             [
              0,
              "#0d0887"
             ],
             [
              0.1111111111111111,
              "#46039f"
             ],
             [
              0.2222222222222222,
              "#7201a8"
             ],
             [
              0.3333333333333333,
              "#9c179e"
             ],
             [
              0.4444444444444444,
              "#bd3786"
             ],
             [
              0.5555555555555556,
              "#d8576b"
             ],
             [
              0.6666666666666666,
              "#ed7953"
             ],
             [
              0.7777777777777778,
              "#fb9f3a"
             ],
             [
              0.8888888888888888,
              "#fdca26"
             ],
             [
              1,
              "#f0f921"
             ]
            ],
            "type": "heatmap"
           }
          ],
          "heatmapgl": [
           {
            "colorbar": {
             "outlinewidth": 0,
             "ticks": ""
            },
            "colorscale": [
             [
              0,
              "#0d0887"
             ],
             [
              0.1111111111111111,
              "#46039f"
             ],
             [
              0.2222222222222222,
              "#7201a8"
             ],
             [
              0.3333333333333333,
              "#9c179e"
             ],
             [
              0.4444444444444444,
              "#bd3786"
             ],
             [
              0.5555555555555556,
              "#d8576b"
             ],
             [
              0.6666666666666666,
              "#ed7953"
             ],
             [
              0.7777777777777778,
              "#fb9f3a"
             ],
             [
              0.8888888888888888,
              "#fdca26"
             ],
             [
              1,
              "#f0f921"
             ]
            ],
            "type": "heatmapgl"
           }
          ],
          "histogram": [
           {
            "marker": {
             "pattern": {
              "fillmode": "overlay",
              "size": 10,
              "solidity": 0.2
             }
            },
            "type": "histogram"
           }
          ],
          "histogram2d": [
           {
            "colorbar": {
             "outlinewidth": 0,
             "ticks": ""
            },
            "colorscale": [
             [
              0,
              "#0d0887"
             ],
             [
              0.1111111111111111,
              "#46039f"
             ],
             [
              0.2222222222222222,
              "#7201a8"
             ],
             [
              0.3333333333333333,
              "#9c179e"
             ],
             [
              0.4444444444444444,
              "#bd3786"
             ],
             [
              0.5555555555555556,
              "#d8576b"
             ],
             [
              0.6666666666666666,
              "#ed7953"
             ],
             [
              0.7777777777777778,
              "#fb9f3a"
             ],
             [
              0.8888888888888888,
              "#fdca26"
             ],
             [
              1,
              "#f0f921"
             ]
            ],
            "type": "histogram2d"
           }
          ],
          "histogram2dcontour": [
           {
            "colorbar": {
             "outlinewidth": 0,
             "ticks": ""
            },
            "colorscale": [
             [
              0,
              "#0d0887"
             ],
             [
              0.1111111111111111,
              "#46039f"
             ],
             [
              0.2222222222222222,
              "#7201a8"
             ],
             [
              0.3333333333333333,
              "#9c179e"
             ],
             [
              0.4444444444444444,
              "#bd3786"
             ],
             [
              0.5555555555555556,
              "#d8576b"
             ],
             [
              0.6666666666666666,
              "#ed7953"
             ],
             [
              0.7777777777777778,
              "#fb9f3a"
             ],
             [
              0.8888888888888888,
              "#fdca26"
             ],
             [
              1,
              "#f0f921"
             ]
            ],
            "type": "histogram2dcontour"
           }
          ],
          "mesh3d": [
           {
            "colorbar": {
             "outlinewidth": 0,
             "ticks": ""
            },
            "type": "mesh3d"
           }
          ],
          "parcoords": [
           {
            "line": {
             "colorbar": {
              "outlinewidth": 0,
              "ticks": ""
             }
            },
            "type": "parcoords"
           }
          ],
          "pie": [
           {
            "automargin": true,
            "type": "pie"
           }
          ],
          "scatter": [
           {
            "fillpattern": {
             "fillmode": "overlay",
             "size": 10,
             "solidity": 0.2
            },
            "type": "scatter"
           }
          ],
          "scatter3d": [
           {
            "line": {
             "colorbar": {
              "outlinewidth": 0,
              "ticks": ""
             }
            },
            "marker": {
             "colorbar": {
              "outlinewidth": 0,
              "ticks": ""
             }
            },
            "type": "scatter3d"
           }
          ],
          "scattercarpet": [
           {
            "marker": {
             "colorbar": {
              "outlinewidth": 0,
              "ticks": ""
             }
            },
            "type": "scattercarpet"
           }
          ],
          "scattergeo": [
           {
            "marker": {
             "colorbar": {
              "outlinewidth": 0,
              "ticks": ""
             }
            },
            "type": "scattergeo"
           }
          ],
          "scattergl": [
           {
            "marker": {
             "colorbar": {
              "outlinewidth": 0,
              "ticks": ""
             }
            },
            "type": "scattergl"
           }
          ],
          "scattermapbox": [
           {
            "marker": {
             "colorbar": {
              "outlinewidth": 0,
              "ticks": ""
             }
            },
            "type": "scattermapbox"
           }
          ],
          "scatterpolar": [
           {
            "marker": {
             "colorbar": {
              "outlinewidth": 0,
              "ticks": ""
             }
            },
            "type": "scatterpolar"
           }
          ],
          "scatterpolargl": [
           {
            "marker": {
             "colorbar": {
              "outlinewidth": 0,
              "ticks": ""
             }
            },
            "type": "scatterpolargl"
           }
          ],
          "scatterternary": [
           {
            "marker": {
             "colorbar": {
              "outlinewidth": 0,
              "ticks": ""
             }
            },
            "type": "scatterternary"
           }
          ],
          "surface": [
           {
            "colorbar": {
             "outlinewidth": 0,
             "ticks": ""
            },
            "colorscale": [
             [
              0,
              "#0d0887"
             ],
             [
              0.1111111111111111,
              "#46039f"
             ],
             [
              0.2222222222222222,
              "#7201a8"
             ],
             [
              0.3333333333333333,
              "#9c179e"
             ],
             [
              0.4444444444444444,
              "#bd3786"
             ],
             [
              0.5555555555555556,
              "#d8576b"
             ],
             [
              0.6666666666666666,
              "#ed7953"
             ],
             [
              0.7777777777777778,
              "#fb9f3a"
             ],
             [
              0.8888888888888888,
              "#fdca26"
             ],
             [
              1,
              "#f0f921"
             ]
            ],
            "type": "surface"
           }
          ],
          "table": [
           {
            "cells": {
             "fill": {
              "color": "#EBF0F8"
             },
             "line": {
              "color": "white"
             }
            },
            "header": {
             "fill": {
              "color": "#C8D4E3"
             },
             "line": {
              "color": "white"
             }
            },
            "type": "table"
           }
          ]
         },
         "layout": {
          "annotationdefaults": {
           "arrowcolor": "#2a3f5f",
           "arrowhead": 0,
           "arrowwidth": 1
          },
          "autotypenumbers": "strict",
          "coloraxis": {
           "colorbar": {
            "outlinewidth": 0,
            "ticks": ""
           }
          },
          "colorscale": {
           "diverging": [
            [
             0,
             "#8e0152"
            ],
            [
             0.1,
             "#c51b7d"
            ],
            [
             0.2,
             "#de77ae"
            ],
            [
             0.3,
             "#f1b6da"
            ],
            [
             0.4,
             "#fde0ef"
            ],
            [
             0.5,
             "#f7f7f7"
            ],
            [
             0.6,
             "#e6f5d0"
            ],
            [
             0.7,
             "#b8e186"
            ],
            [
             0.8,
             "#7fbc41"
            ],
            [
             0.9,
             "#4d9221"
            ],
            [
             1,
             "#276419"
            ]
           ],
           "sequential": [
            [
             0,
             "#0d0887"
            ],
            [
             0.1111111111111111,
             "#46039f"
            ],
            [
             0.2222222222222222,
             "#7201a8"
            ],
            [
             0.3333333333333333,
             "#9c179e"
            ],
            [
             0.4444444444444444,
             "#bd3786"
            ],
            [
             0.5555555555555556,
             "#d8576b"
            ],
            [
             0.6666666666666666,
             "#ed7953"
            ],
            [
             0.7777777777777778,
             "#fb9f3a"
            ],
            [
             0.8888888888888888,
             "#fdca26"
            ],
            [
             1,
             "#f0f921"
            ]
           ],
           "sequentialminus": [
            [
             0,
             "#0d0887"
            ],
            [
             0.1111111111111111,
             "#46039f"
            ],
            [
             0.2222222222222222,
             "#7201a8"
            ],
            [
             0.3333333333333333,
             "#9c179e"
            ],
            [
             0.4444444444444444,
             "#bd3786"
            ],
            [
             0.5555555555555556,
             "#d8576b"
            ],
            [
             0.6666666666666666,
             "#ed7953"
            ],
            [
             0.7777777777777778,
             "#fb9f3a"
            ],
            [
             0.8888888888888888,
             "#fdca26"
            ],
            [
             1,
             "#f0f921"
            ]
           ]
          },
          "colorway": [
           "#636efa",
           "#EF553B",
           "#00cc96",
           "#ab63fa",
           "#FFA15A",
           "#19d3f3",
           "#FF6692",
           "#B6E880",
           "#FF97FF",
           "#FECB52"
          ],
          "font": {
           "color": "#2a3f5f"
          },
          "geo": {
           "bgcolor": "white",
           "lakecolor": "white",
           "landcolor": "#E5ECF6",
           "showlakes": true,
           "showland": true,
           "subunitcolor": "white"
          },
          "hoverlabel": {
           "align": "left"
          },
          "hovermode": "closest",
          "mapbox": {
           "style": "light"
          },
          "paper_bgcolor": "white",
          "plot_bgcolor": "#E5ECF6",
          "polar": {
           "angularaxis": {
            "gridcolor": "white",
            "linecolor": "white",
            "ticks": ""
           },
           "bgcolor": "#E5ECF6",
           "radialaxis": {
            "gridcolor": "white",
            "linecolor": "white",
            "ticks": ""
           }
          },
          "scene": {
           "xaxis": {
            "backgroundcolor": "#E5ECF6",
            "gridcolor": "white",
            "gridwidth": 2,
            "linecolor": "white",
            "showbackground": true,
            "ticks": "",
            "zerolinecolor": "white"
           },
           "yaxis": {
            "backgroundcolor": "#E5ECF6",
            "gridcolor": "white",
            "gridwidth": 2,
            "linecolor": "white",
            "showbackground": true,
            "ticks": "",
            "zerolinecolor": "white"
           },
           "zaxis": {
            "backgroundcolor": "#E5ECF6",
            "gridcolor": "white",
            "gridwidth": 2,
            "linecolor": "white",
            "showbackground": true,
            "ticks": "",
            "zerolinecolor": "white"
           }
          },
          "shapedefaults": {
           "line": {
            "color": "#2a3f5f"
           }
          },
          "ternary": {
           "aaxis": {
            "gridcolor": "white",
            "linecolor": "white",
            "ticks": ""
           },
           "baxis": {
            "gridcolor": "white",
            "linecolor": "white",
            "ticks": ""
           },
           "bgcolor": "#E5ECF6",
           "caxis": {
            "gridcolor": "white",
            "linecolor": "white",
            "ticks": ""
           }
          },
          "title": {
           "x": 0.05
          },
          "xaxis": {
           "automargin": true,
           "gridcolor": "white",
           "linecolor": "white",
           "ticks": "",
           "title": {
            "standoff": 15
           },
           "zerolinecolor": "white",
           "zerolinewidth": 2
          },
          "yaxis": {
           "automargin": true,
           "gridcolor": "white",
           "linecolor": "white",
           "ticks": "",
           "title": {
            "standoff": 15
           },
           "zerolinecolor": "white",
           "zerolinewidth": 2
          }
         }
        },
        "title": {
         "text": "Dandelion Graph << ts1 and ts2 >>"
        },
        "xaxis": {
         "range": [
          -3.7603099362183823,
          3.7603099362183823
         ],
         "title": {
          "text": "Central"
         }
        },
        "yaxis": {
         "range": [
          -3.7603099362183823,
          3.7603099362183823
         ],
         "title": {
          "text": "Range"
         }
        }
       }
      }
     },
     "metadata": {},
     "output_type": "display_data"
    }
   ],
   "source": [
    "dandelion(ts1, ts2, \"ts1\", \"ts2\")"
   ]
  },
  {
   "cell_type": "code",
   "execution_count": 36,
   "metadata": {},
   "outputs": [
    {
     "data": {
      "application/vnd.plotly.v1+json": {
       "config": {
        "plotlyServerURL": "https://plot.ly"
       },
       "data": [
        {
         "marker": {
          "color": "rgba(30,144,255,0.8)",
          "line": {
           "color": "rgb(28,28,28)",
           "width": 2
          },
          "size": 8
         },
         "mode": "markers",
         "name": "ts1",
         "type": "scatter",
         "x": [
          -1.2861776493082344,
          0.6972796990700177,
          0.8703524372194321,
          -0.7644596699948959,
          -0.02307894650516371,
          0.971945456430119,
          0.7261999040792505,
          -1.2096995142118654,
          0.7457147132362963,
          0.6597898802572131,
          -1.534586145500587,
          -0.02493112034252777,
          0.04625036876045926,
          1.5604583715505174,
          -1.2600987488400823,
          -0.9827668859570801,
          0.14937679697431108,
          -0.01811111710911118,
          0.04748584500858044,
          -0.872067605687623,
          1.310179394027423,
          0.9096843599389689,
          -2.316890656218335,
          0.07062083652927027,
          0.2135140519309482,
          1.0456076003618675,
          -1.052006042703795,
          0.15685269643135016,
          -0.8153111757602179,
          0.5178395275485012,
          0.21415912040980634,
          -1.1016460110464985,
          1.1109391940921203,
          -1.381924398047184,
          -0.3739272049857615,
          -0.29618099560380046,
          -0.26453078509196576,
          0.21519777416980143,
          0.8174204336924583,
          -1.0262396940662066,
          0.26087199549580364,
          1.2537608751907732,
          0.615628458909415,
          -0.7419584955902896,
          -0.7415056764445546,
          -0.001487542325199092,
          0.7716409239983005,
          -1.4790855569276948,
          1.2707935368547791,
          -0.4675841875766918,
          1.4681075174697975,
          -0.9504921801466577,
          -0.6105627087599679,
          -0.661668182227205,
          0.5573512698631968,
          1.5843882637183222,
          -0.3845169489237967,
          1.5491746922931782,
          -1.2008910490336149,
          -1.0160246825798795,
          1.704838256236108,
          0.8890367048534128,
          -1.4136688835121223,
          0.920536153918246,
          -0.6578419584977299,
          -0.5174361327378108,
          0.723580322733919,
          -0.9064187527222025,
          0.21060805579882771,
          0.12369203121471552,
          -2.4011562369163673,
          1.754735092867591,
          -0.28586700402438076,
          0.46237481001712455,
          -1.5682185178231651,
          1.0129568857702604,
          0.3875261042838287,
          -0.29359095938326674,
          -0.06332365066941963,
          -1.666875339233785,
          3.073548744265298,
          -1.6240467773364877,
          0.2151344021542272,
          -0.794561786069889,
          0.23507434790369006,
          0.35364188509144556,
          0.9305602416306888,
          0.5440062539656537,
          -1.2191664368865898,
          0.7598653397871632,
          0.8710704068168618,
          0.9505116762527686,
          -0.9921402031256387,
          1.3834390465968416,
          -0.20138951755099332,
          -0.3697490806253764,
          0.9066851607462445,
          -0.25601738852551637,
          -1.0910870499106209,
          0.38095933465065507
         ],
         "y": [
          -0.2337085430154462,
          0.9179109518744811,
          -0.5963372979368322,
          -1.4231979643726385,
          1.0457794598410957,
          0.3382295832332545,
          0.38622042767902887,
          -0.06707299292969301,
          0.19364631386963652,
          0.31134223728925525,
          -0.25653494083827894,
          0.7755442621802808,
          0.4493810579273159,
          -0.3967234917201302,
          0.6202088631963162,
          -0.1766856923697173,
          -0.780591326864081,
          -0.7889816651560376,
          0.45028885248303,
          -1.359009460486719,
          -0.2546388248874903,
          0.20145925240201723,
          0.2990605820498824,
          -0.31800504637461785,
          0.03197617679351253,
          -0.04481769055943566,
          0.3209132676422836,
          -0.3725723227402914,
          -0.8920260029344939,
          0.15180717721910555,
          -0.8804762153806932,
          2.725076247246194,
          -1.4583704229657926,
          0.6206268807754094,
          -1.5081087052757538,
          1.575008845368523,
          -0.3705757386459759,
          -0.7879407125159543,
          -0.2844639150655959,
          -0.17010255866975257,
          1.5366865428176608,
          -0.20722507369051021,
          0.15451727652273614,
          -0.9132619163961629,
          1.0653089939262828,
          -1.5360296040767143,
          -0.3084641499290403,
          2.7893952205209356,
          -0.073427609097592,
          0.35940251767946674,
          -0.7430062305943809,
          -0.06805328544780101,
          -1.2390344463174112,
          1.5367361883908977,
          -1.4773682563995532,
          1.0386661608731713,
          1.0604876205039098,
          -0.8038293480855776,
          1.267228113846986,
          -1.8138569971529237,
          -0.3286339653452809,
          -1.124421008780828,
          0.8447666403382613,
          -0.5249772067713574,
          0.8916167364898974,
          0.2812041216931406,
          -0.43930079168370845,
          1.0083433169029634,
          0.514290714687407,
          1.171640103411368,
          1.6512800365003568,
          -0.9606112892916647,
          -1.7987681349806965,
          0.5987075223828138,
          1.6710252183252348,
          0.34354653866754703,
          -1.3415954381430306,
          0.2432484069777617,
          1.2510797725958152,
          -0.08056561903846432,
          1.3374992887888428,
          -2.004543998585498,
          1.39634436209879,
          -0.18505313044757482,
          -1.9112217564895375,
          1.6849728458486803,
          -1.5806073420932536,
          0.0769100557596063,
          -1.2837785854866448,
          -0.5408604009890804,
          0.6038997280150729,
          0.027485563448648095,
          0.11803366649516635,
          -0.125934908667055,
          -1.408668295160374,
          -0.2750326156605736,
          -0.07238454548681103,
          0.5679830948449472,
          1.1548342799517355,
          -1.0701636063820694
         ]
        },
        {
         "marker": {
          "color": "green",
          "line": {
           "color": "rgb(28,28,28)",
           "width": 2
          },
          "size": 8
         },
         "mode": "markers",
         "name": "ts2",
         "type": "scatter",
         "x": [
          -1.4293200202917118,
          -1.6246807163881563,
          -0.10551867468493834,
          1.0983845285423965,
          -0.9923797973751749,
          1.2816972378957543,
          1.5942201107100347,
          -0.43197855682959835,
          1.1589052489065734,
          1.8492724708141715,
          -0.5824659587368688,
          1.1869092345732233,
          -0.8332559873836971,
          1.7537837870467083,
          -0.6599185527751942,
          -1.0768012842625077,
          -0.30301620515797245,
          0.5512497103613593,
          0.7453281249527381,
          -0.4446516188199019,
          0.7231973460358556,
          -0.33663297057405334,
          0.9434192800000472,
          -1.3366212862283946,
          -0.0005547615799324978,
          -0.38557403251597006,
          -2.2587767084556005,
          -0.09395797030851571,
          -0.6852150033560924,
          1.0330846861772394,
          -0.40075887980304326,
          -0.34364091610790304,
          0.7849010462059056,
          -0.1876674576395212,
          -0.15501302855268898,
          -0.25950912828348627,
          -0.9383510633159003,
          -0.11994573478253659,
          0.9094519149075388,
          -1.387046236601903,
          0.14784645982958483,
          0.38465035586863505,
          0.7729636731551018,
          0.558395637361207,
          1.1213940317118358,
          -0.4574831010528136,
          0.4797622300101044,
          -1.969381652797846,
          0.9450566199975219,
          0.07972399539265866,
          -0.004449915240459104,
          -1.4423083654578914,
          -0.053788002251837656,
          0.7594871622454271,
          -0.248619954392525,
          3.107702667093379,
          -0.08012202425074064,
          0.0022140665300273434,
          -0.22919520844399885,
          -0.27710067401392124,
          1.042999688378517,
          1.0510756614193186,
          1.5445093233879716,
          -0.18480992631063095,
          -1.7115858478346289,
          -0.013292921195044705,
          0.8219795154394414,
          -0.0687830024409858,
          0.9426350997926874,
          -0.4496441544875629,
          -2.3065805028359283,
          1.2290305619686426,
          -0.9823607785471469,
          0.09633471618223614,
          -1.8244034398462594,
          0.9119793300009538,
          -0.7919761220523903,
          0.3034910477647101,
          0.3364629554680457,
          -0.05442663773068604,
          2.2711263497861824,
          -1.6264406946829475,
          -0.024073758691979506,
          -0.505846328280266,
          -0.859541378652252,
          0.30484519776539165,
          0.07955952231604964,
          0.5075599092609236,
          -1.3266185082608133,
          0.06761563755220246,
          -0.0015740575156826054,
          0.5588539741136814,
          0.00926894253890721,
          2.0041188252332565,
          -0.06520129846285916,
          0.20767815657979732,
          -1.500020747380472,
          -0.5281945522152842,
          -0.8579285420550343,
          -0.4451213930817922
         ],
         "y": [
          -0.16483846337263972,
          1.8140472147985238,
          0.1894183616073619,
          -1.1566775921930903,
          0.5866503769347399,
          0.9338489564716888,
          0.28391455017749223,
          -0.5944416108354864,
          0.9686701853546714,
          -0.9227469709203631,
          1.118129191742716,
          0.9440762908319417,
          0.16673050354132182,
          -0.3054576211661781,
          1.21246456240846,
          -0.7009110790185835,
          -1.1970087918911214,
          -1.016168070174445,
          0.19633700728371614,
          -0.6106018508825382,
          0.1888503501928329,
          -0.48269913617949534,
          -0.8051676694283131,
          0.0027804616734595816,
          0.6007956565747539,
          0.009365038862485395,
          0.6673009039752941,
          -0.40257409872743505,
          1.0792179372250448,
          1.5661296281403725,
          0.6862733230263806,
          2.125045732076757,
          -0.8752640582975184,
          -0.033946420254920985,
          -1.1098653521548838,
          0.624752645992215,
          -1.8795178737736202,
          -0.37113375746262905,
          -0.8726546825099742,
          -0.8558166057005315,
          1.7240949215443797,
          -0.7639717251321201,
          1.1201598167846645,
          -1.6477566360347864,
          0.6270494333707485,
          -1.392904751380439,
          0.39186879858209334,
          0.8944571401752652,
          -1.0712987708420632,
          0.3915923227079801,
          -0.7814229381824854,
          -0.36010540184593154,
          -2.1297016139114127,
          0.06829936568687969,
          -1.1760671875876108,
          -0.31600934639136524,
          0.9468067999298295,
          -1.4439903947595787,
          2.5039308361267896,
          -1.0213239028154397,
          1.197168648601395,
          -2.5619709444160206,
          -0.6665308777304543,
          1.4399035421886732,
          -0.42741047267320303,
          0.897014337759572,
          -0.014979957030494437,
          0.9161552238907128,
          -0.06403868849227348,
          0.8931758757428876,
          0.12655795574184472,
          -0.5973567368763161,
          -1.3383145270280268,
          -1.0127733400227934,
          2.060335023460303,
          0.5576019053212546,
          -0.8711507366642636,
          -0.19679762863382505,
          1.1524443275839058,
          0.5415752326245031,
          2.041336854167392,
          0.24188912214329142,
          0.20251993017059963,
          -0.16629751283619107,
          -0.6013320199904695,
          0.17358037187710607,
          -0.46799827034743785,
          0.310928802351113,
          -0.4513160117499242,
          -0.41833838289159025,
          0.3695004140729596,
          1.641347606711677,
          0.2684173136818456,
          -1.5427278676811111,
          -1.1363129184819463,
          -0.11251562926059851,
          -0.9008385792436953,
          0.812324212551547,
          0.35777955107618975,
          -0.8235690896419668
         ]
        },
        {
         "line": {
          "color": "rgba(0,0,255,0.2)",
          "dash": "dot",
          "width": 2
         },
         "mode": "lines",
         "showlegend": false,
         "type": "scatter",
         "x": [
          -13,
          13
         ],
         "y": [
          13,
          -13
         ]
        },
        {
         "line": {
          "color": "rgba(0,0,255,0.2)",
          "dash": "dot",
          "width": 2
         },
         "mode": "lines",
         "showlegend": false,
         "type": "scatter",
         "x": [
          13,
          -13
         ],
         "y": [
          13,
          -13
         ]
        },
        {
         "line": {
          "color": "rgba(0,0,255,0.2)",
          "dash": "dot",
          "width": 2
         },
         "mode": "lines",
         "showlegend": false,
         "type": "scatter",
         "x": [
          13,
          -13
         ],
         "y": [
          0,
          0
         ]
        },
        {
         "line": {
          "color": "rgba(0,0,255,0.2)",
          "dash": "dot",
          "width": 2
         },
         "mode": "lines",
         "showlegend": false,
         "type": "scatter",
         "x": [
          0,
          0
         ],
         "y": [
          13,
          -13
         ]
        }
       ],
       "layout": {
        "shapes": [
         {
          "line": {
           "color": "rgba(112,128,114,0.6)",
           "width": 2
          },
          "type": "line",
          "x0": -1.2861776493082344,
          "x1": -1.4293200202917118,
          "y0": -0.2337085430154462,
          "y1": -0.16483846337263972
         },
         {
          "line": {
           "color": "rgba(112,128,114,0.6)",
           "width": 2
          },
          "type": "line",
          "x0": 0.6972796990700177,
          "x1": -1.6246807163881563,
          "y0": 0.9179109518744811,
          "y1": 1.8140472147985238
         },
         {
          "line": {
           "color": "rgba(112,128,114,0.6)",
           "width": 2
          },
          "type": "line",
          "x0": 0.8703524372194321,
          "x1": -0.10551867468493834,
          "y0": -0.5963372979368322,
          "y1": 0.1894183616073619
         },
         {
          "line": {
           "color": "rgba(112,128,114,0.6)",
           "width": 2
          },
          "type": "line",
          "x0": -0.7644596699948959,
          "x1": 1.0983845285423965,
          "y0": -1.4231979643726385,
          "y1": -1.1566775921930903
         },
         {
          "line": {
           "color": "rgba(112,128,114,0.6)",
           "width": 2
          },
          "type": "line",
          "x0": -0.02307894650516371,
          "x1": -0.9923797973751749,
          "y0": 1.0457794598410957,
          "y1": 0.5866503769347399
         },
         {
          "line": {
           "color": "rgba(112,128,114,0.6)",
           "width": 2
          },
          "type": "line",
          "x0": 0.971945456430119,
          "x1": 1.2816972378957543,
          "y0": 0.3382295832332545,
          "y1": 0.9338489564716888
         },
         {
          "line": {
           "color": "rgba(112,128,114,0.6)",
           "width": 2
          },
          "type": "line",
          "x0": 0.7261999040792505,
          "x1": 1.5942201107100347,
          "y0": 0.38622042767902887,
          "y1": 0.28391455017749223
         },
         {
          "line": {
           "color": "rgba(112,128,114,0.6)",
           "width": 2
          },
          "type": "line",
          "x0": -1.2096995142118654,
          "x1": -0.43197855682959835,
          "y0": -0.06707299292969301,
          "y1": -0.5944416108354864
         },
         {
          "line": {
           "color": "rgba(112,128,114,0.6)",
           "width": 2
          },
          "type": "line",
          "x0": 0.7457147132362963,
          "x1": 1.1589052489065734,
          "y0": 0.19364631386963652,
          "y1": 0.9686701853546714
         },
         {
          "line": {
           "color": "rgba(112,128,114,0.6)",
           "width": 2
          },
          "type": "line",
          "x0": 0.6597898802572131,
          "x1": 1.8492724708141715,
          "y0": 0.31134223728925525,
          "y1": -0.9227469709203631
         },
         {
          "line": {
           "color": "rgba(112,128,114,0.6)",
           "width": 2
          },
          "type": "line",
          "x0": -1.534586145500587,
          "x1": -0.5824659587368688,
          "y0": -0.25653494083827894,
          "y1": 1.118129191742716
         },
         {
          "line": {
           "color": "rgba(112,128,114,0.6)",
           "width": 2
          },
          "type": "line",
          "x0": -0.02493112034252777,
          "x1": 1.1869092345732233,
          "y0": 0.7755442621802808,
          "y1": 0.9440762908319417
         },
         {
          "line": {
           "color": "rgba(112,128,114,0.6)",
           "width": 2
          },
          "type": "line",
          "x0": 0.04625036876045926,
          "x1": -0.8332559873836971,
          "y0": 0.4493810579273159,
          "y1": 0.16673050354132182
         },
         {
          "line": {
           "color": "rgba(112,128,114,0.6)",
           "width": 2
          },
          "type": "line",
          "x0": 1.5604583715505174,
          "x1": 1.7537837870467083,
          "y0": -0.3967234917201302,
          "y1": -0.3054576211661781
         },
         {
          "line": {
           "color": "rgba(112,128,114,0.6)",
           "width": 2
          },
          "type": "line",
          "x0": -1.2600987488400823,
          "x1": -0.6599185527751942,
          "y0": 0.6202088631963162,
          "y1": 1.21246456240846
         },
         {
          "line": {
           "color": "rgba(112,128,114,0.6)",
           "width": 2
          },
          "type": "line",
          "x0": -0.9827668859570801,
          "x1": -1.0768012842625077,
          "y0": -0.1766856923697173,
          "y1": -0.7009110790185835
         },
         {
          "line": {
           "color": "rgba(112,128,114,0.6)",
           "width": 2
          },
          "type": "line",
          "x0": 0.14937679697431108,
          "x1": -0.30301620515797245,
          "y0": -0.780591326864081,
          "y1": -1.1970087918911214
         },
         {
          "line": {
           "color": "rgba(112,128,114,0.6)",
           "width": 2
          },
          "type": "line",
          "x0": -0.01811111710911118,
          "x1": 0.5512497103613593,
          "y0": -0.7889816651560376,
          "y1": -1.016168070174445
         },
         {
          "line": {
           "color": "rgba(112,128,114,0.6)",
           "width": 2
          },
          "type": "line",
          "x0": 0.04748584500858044,
          "x1": 0.7453281249527381,
          "y0": 0.45028885248303,
          "y1": 0.19633700728371614
         },
         {
          "line": {
           "color": "rgba(112,128,114,0.6)",
           "width": 2
          },
          "type": "line",
          "x0": -0.872067605687623,
          "x1": -0.4446516188199019,
          "y0": -1.359009460486719,
          "y1": -0.6106018508825382
         },
         {
          "line": {
           "color": "rgba(112,128,114,0.6)",
           "width": 2
          },
          "type": "line",
          "x0": 1.310179394027423,
          "x1": 0.7231973460358556,
          "y0": -0.2546388248874903,
          "y1": 0.1888503501928329
         },
         {
          "line": {
           "color": "rgba(112,128,114,0.6)",
           "width": 2
          },
          "type": "line",
          "x0": 0.9096843599389689,
          "x1": -0.33663297057405334,
          "y0": 0.20145925240201723,
          "y1": -0.48269913617949534
         },
         {
          "line": {
           "color": "rgba(112,128,114,0.6)",
           "width": 2
          },
          "type": "line",
          "x0": -2.316890656218335,
          "x1": 0.9434192800000472,
          "y0": 0.2990605820498824,
          "y1": -0.8051676694283131
         },
         {
          "line": {
           "color": "rgba(112,128,114,0.6)",
           "width": 2
          },
          "type": "line",
          "x0": 0.07062083652927027,
          "x1": -1.3366212862283946,
          "y0": -0.31800504637461785,
          "y1": 0.0027804616734595816
         },
         {
          "line": {
           "color": "rgba(112,128,114,0.6)",
           "width": 2
          },
          "type": "line",
          "x0": 0.2135140519309482,
          "x1": -0.0005547615799324978,
          "y0": 0.03197617679351253,
          "y1": 0.6007956565747539
         },
         {
          "line": {
           "color": "rgba(112,128,114,0.6)",
           "width": 2
          },
          "type": "line",
          "x0": 1.0456076003618675,
          "x1": -0.38557403251597006,
          "y0": -0.04481769055943566,
          "y1": 0.009365038862485395
         },
         {
          "line": {
           "color": "rgba(112,128,114,0.6)",
           "width": 2
          },
          "type": "line",
          "x0": -1.052006042703795,
          "x1": -2.2587767084556005,
          "y0": 0.3209132676422836,
          "y1": 0.6673009039752941
         },
         {
          "line": {
           "color": "rgba(112,128,114,0.6)",
           "width": 2
          },
          "type": "line",
          "x0": 0.15685269643135016,
          "x1": -0.09395797030851571,
          "y0": -0.3725723227402914,
          "y1": -0.40257409872743505
         },
         {
          "line": {
           "color": "rgba(112,128,114,0.6)",
           "width": 2
          },
          "type": "line",
          "x0": -0.8153111757602179,
          "x1": -0.6852150033560924,
          "y0": -0.8920260029344939,
          "y1": 1.0792179372250448
         },
         {
          "line": {
           "color": "rgba(112,128,114,0.6)",
           "width": 2
          },
          "type": "line",
          "x0": 0.5178395275485012,
          "x1": 1.0330846861772394,
          "y0": 0.15180717721910555,
          "y1": 1.5661296281403725
         },
         {
          "line": {
           "color": "rgba(112,128,114,0.6)",
           "width": 2
          },
          "type": "line",
          "x0": 0.21415912040980634,
          "x1": -0.40075887980304326,
          "y0": -0.8804762153806932,
          "y1": 0.6862733230263806
         },
         {
          "line": {
           "color": "rgba(112,128,114,0.6)",
           "width": 2
          },
          "type": "line",
          "x0": -1.1016460110464985,
          "x1": -0.34364091610790304,
          "y0": 2.725076247246194,
          "y1": 2.125045732076757
         },
         {
          "line": {
           "color": "rgba(112,128,114,0.6)",
           "width": 2
          },
          "type": "line",
          "x0": 1.1109391940921203,
          "x1": 0.7849010462059056,
          "y0": -1.4583704229657926,
          "y1": -0.8752640582975184
         },
         {
          "line": {
           "color": "rgba(112,128,114,0.6)",
           "width": 2
          },
          "type": "line",
          "x0": -1.381924398047184,
          "x1": -0.1876674576395212,
          "y0": 0.6206268807754094,
          "y1": -0.033946420254920985
         },
         {
          "line": {
           "color": "rgba(112,128,114,0.6)",
           "width": 2
          },
          "type": "line",
          "x0": -0.3739272049857615,
          "x1": -0.15501302855268898,
          "y0": -1.5081087052757538,
          "y1": -1.1098653521548838
         },
         {
          "line": {
           "color": "rgba(112,128,114,0.6)",
           "width": 2
          },
          "type": "line",
          "x0": -0.29618099560380046,
          "x1": -0.25950912828348627,
          "y0": 1.575008845368523,
          "y1": 0.624752645992215
         },
         {
          "line": {
           "color": "rgba(112,128,114,0.6)",
           "width": 2
          },
          "type": "line",
          "x0": -0.26453078509196576,
          "x1": -0.9383510633159003,
          "y0": -0.3705757386459759,
          "y1": -1.8795178737736202
         },
         {
          "line": {
           "color": "rgba(112,128,114,0.6)",
           "width": 2
          },
          "type": "line",
          "x0": 0.21519777416980143,
          "x1": -0.11994573478253659,
          "y0": -0.7879407125159543,
          "y1": -0.37113375746262905
         },
         {
          "line": {
           "color": "rgba(112,128,114,0.6)",
           "width": 2
          },
          "type": "line",
          "x0": 0.8174204336924583,
          "x1": 0.9094519149075388,
          "y0": -0.2844639150655959,
          "y1": -0.8726546825099742
         },
         {
          "line": {
           "color": "rgba(112,128,114,0.6)",
           "width": 2
          },
          "type": "line",
          "x0": -1.0262396940662066,
          "x1": -1.387046236601903,
          "y0": -0.17010255866975257,
          "y1": -0.8558166057005315
         },
         {
          "line": {
           "color": "rgba(112,128,114,0.6)",
           "width": 2
          },
          "type": "line",
          "x0": 0.26087199549580364,
          "x1": 0.14784645982958483,
          "y0": 1.5366865428176608,
          "y1": 1.7240949215443797
         },
         {
          "line": {
           "color": "rgba(112,128,114,0.6)",
           "width": 2
          },
          "type": "line",
          "x0": 1.2537608751907732,
          "x1": 0.38465035586863505,
          "y0": -0.20722507369051021,
          "y1": -0.7639717251321201
         },
         {
          "line": {
           "color": "rgba(112,128,114,0.6)",
           "width": 2
          },
          "type": "line",
          "x0": 0.615628458909415,
          "x1": 0.7729636731551018,
          "y0": 0.15451727652273614,
          "y1": 1.1201598167846645
         },
         {
          "line": {
           "color": "rgba(112,128,114,0.6)",
           "width": 2
          },
          "type": "line",
          "x0": -0.7419584955902896,
          "x1": 0.558395637361207,
          "y0": -0.9132619163961629,
          "y1": -1.6477566360347864
         },
         {
          "line": {
           "color": "rgba(112,128,114,0.6)",
           "width": 2
          },
          "type": "line",
          "x0": -0.7415056764445546,
          "x1": 1.1213940317118358,
          "y0": 1.0653089939262828,
          "y1": 0.6270494333707485
         },
         {
          "line": {
           "color": "rgba(112,128,114,0.6)",
           "width": 2
          },
          "type": "line",
          "x0": -0.001487542325199092,
          "x1": -0.4574831010528136,
          "y0": -1.5360296040767143,
          "y1": -1.392904751380439
         },
         {
          "line": {
           "color": "rgba(112,128,114,0.6)",
           "width": 2
          },
          "type": "line",
          "x0": 0.7716409239983005,
          "x1": 0.4797622300101044,
          "y0": -0.3084641499290403,
          "y1": 0.39186879858209334
         },
         {
          "line": {
           "color": "rgba(112,128,114,0.6)",
           "width": 2
          },
          "type": "line",
          "x0": -1.4790855569276948,
          "x1": -1.969381652797846,
          "y0": 2.7893952205209356,
          "y1": 0.8944571401752652
         },
         {
          "line": {
           "color": "rgba(112,128,114,0.6)",
           "width": 2
          },
          "type": "line",
          "x0": 1.2707935368547791,
          "x1": 0.9450566199975219,
          "y0": -0.073427609097592,
          "y1": -1.0712987708420632
         },
         {
          "line": {
           "color": "rgba(112,128,114,0.6)",
           "width": 2
          },
          "type": "line",
          "x0": -0.4675841875766918,
          "x1": 0.07972399539265866,
          "y0": 0.35940251767946674,
          "y1": 0.3915923227079801
         },
         {
          "line": {
           "color": "rgba(112,128,114,0.6)",
           "width": 2
          },
          "type": "line",
          "x0": 1.4681075174697975,
          "x1": -0.004449915240459104,
          "y0": -0.7430062305943809,
          "y1": -0.7814229381824854
         },
         {
          "line": {
           "color": "rgba(112,128,114,0.6)",
           "width": 2
          },
          "type": "line",
          "x0": -0.9504921801466577,
          "x1": -1.4423083654578914,
          "y0": -0.06805328544780101,
          "y1": -0.36010540184593154
         },
         {
          "line": {
           "color": "rgba(112,128,114,0.6)",
           "width": 2
          },
          "type": "line",
          "x0": -0.6105627087599679,
          "x1": -0.053788002251837656,
          "y0": -1.2390344463174112,
          "y1": -2.1297016139114127
         },
         {
          "line": {
           "color": "rgba(112,128,114,0.6)",
           "width": 2
          },
          "type": "line",
          "x0": -0.661668182227205,
          "x1": 0.7594871622454271,
          "y0": 1.5367361883908977,
          "y1": 0.06829936568687969
         },
         {
          "line": {
           "color": "rgba(112,128,114,0.6)",
           "width": 2
          },
          "type": "line",
          "x0": 0.5573512698631968,
          "x1": -0.248619954392525,
          "y0": -1.4773682563995532,
          "y1": -1.1760671875876108
         },
         {
          "line": {
           "color": "rgba(112,128,114,0.6)",
           "width": 2
          },
          "type": "line",
          "x0": 1.5843882637183222,
          "x1": 3.107702667093379,
          "y0": 1.0386661608731713,
          "y1": -0.31600934639136524
         },
         {
          "line": {
           "color": "rgba(112,128,114,0.6)",
           "width": 2
          },
          "type": "line",
          "x0": -0.3845169489237967,
          "x1": -0.08012202425074064,
          "y0": 1.0604876205039098,
          "y1": 0.9468067999298295
         },
         {
          "line": {
           "color": "rgba(112,128,114,0.6)",
           "width": 2
          },
          "type": "line",
          "x0": 1.5491746922931782,
          "x1": 0.0022140665300273434,
          "y0": -0.8038293480855776,
          "y1": -1.4439903947595787
         },
         {
          "line": {
           "color": "rgba(112,128,114,0.6)",
           "width": 2
          },
          "type": "line",
          "x0": -1.2008910490336149,
          "x1": -0.22919520844399885,
          "y0": 1.267228113846986,
          "y1": 2.5039308361267896
         },
         {
          "line": {
           "color": "rgba(112,128,114,0.6)",
           "width": 2
          },
          "type": "line",
          "x0": -1.0160246825798795,
          "x1": -0.27710067401392124,
          "y0": -1.8138569971529237,
          "y1": -1.0213239028154397
         },
         {
          "line": {
           "color": "rgba(112,128,114,0.6)",
           "width": 2
          },
          "type": "line",
          "x0": 1.704838256236108,
          "x1": 1.042999688378517,
          "y0": -0.3286339653452809,
          "y1": 1.197168648601395
         },
         {
          "line": {
           "color": "rgba(112,128,114,0.6)",
           "width": 2
          },
          "type": "line",
          "x0": 0.8890367048534128,
          "x1": 1.0510756614193186,
          "y0": -1.124421008780828,
          "y1": -2.5619709444160206
         },
         {
          "line": {
           "color": "rgba(112,128,114,0.6)",
           "width": 2
          },
          "type": "line",
          "x0": -1.4136688835121223,
          "x1": 1.5445093233879716,
          "y0": 0.8447666403382613,
          "y1": -0.6665308777304543
         },
         {
          "line": {
           "color": "rgba(112,128,114,0.6)",
           "width": 2
          },
          "type": "line",
          "x0": 0.920536153918246,
          "x1": -0.18480992631063095,
          "y0": -0.5249772067713574,
          "y1": 1.4399035421886732
         },
         {
          "line": {
           "color": "rgba(112,128,114,0.6)",
           "width": 2
          },
          "type": "line",
          "x0": -0.6578419584977299,
          "x1": -1.7115858478346289,
          "y0": 0.8916167364898974,
          "y1": -0.42741047267320303
         },
         {
          "line": {
           "color": "rgba(112,128,114,0.6)",
           "width": 2
          },
          "type": "line",
          "x0": -0.5174361327378108,
          "x1": -0.013292921195044705,
          "y0": 0.2812041216931406,
          "y1": 0.897014337759572
         },
         {
          "line": {
           "color": "rgba(112,128,114,0.6)",
           "width": 2
          },
          "type": "line",
          "x0": 0.723580322733919,
          "x1": 0.8219795154394414,
          "y0": -0.43930079168370845,
          "y1": -0.014979957030494437
         },
         {
          "line": {
           "color": "rgba(112,128,114,0.6)",
           "width": 2
          },
          "type": "line",
          "x0": -0.9064187527222025,
          "x1": -0.0687830024409858,
          "y0": 1.0083433169029634,
          "y1": 0.9161552238907128
         },
         {
          "line": {
           "color": "rgba(112,128,114,0.6)",
           "width": 2
          },
          "type": "line",
          "x0": 0.21060805579882771,
          "x1": 0.9426350997926874,
          "y0": 0.514290714687407,
          "y1": -0.06403868849227348
         },
         {
          "line": {
           "color": "rgba(112,128,114,0.6)",
           "width": 2
          },
          "type": "line",
          "x0": 0.12369203121471552,
          "x1": -0.4496441544875629,
          "y0": 1.171640103411368,
          "y1": 0.8931758757428876
         },
         {
          "line": {
           "color": "rgba(112,128,114,0.6)",
           "width": 2
          },
          "type": "line",
          "x0": -2.4011562369163673,
          "x1": -2.3065805028359283,
          "y0": 1.6512800365003568,
          "y1": 0.12655795574184472
         },
         {
          "line": {
           "color": "rgba(112,128,114,0.6)",
           "width": 2
          },
          "type": "line",
          "x0": 1.754735092867591,
          "x1": 1.2290305619686426,
          "y0": -0.9606112892916647,
          "y1": -0.5973567368763161
         },
         {
          "line": {
           "color": "rgba(112,128,114,0.6)",
           "width": 2
          },
          "type": "line",
          "x0": -0.28586700402438076,
          "x1": -0.9823607785471469,
          "y0": -1.7987681349806965,
          "y1": -1.3383145270280268
         },
         {
          "line": {
           "color": "rgba(112,128,114,0.6)",
           "width": 2
          },
          "type": "line",
          "x0": 0.46237481001712455,
          "x1": 0.09633471618223614,
          "y0": 0.5987075223828138,
          "y1": -1.0127733400227934
         },
         {
          "line": {
           "color": "rgba(112,128,114,0.6)",
           "width": 2
          },
          "type": "line",
          "x0": -1.5682185178231651,
          "x1": -1.8244034398462594,
          "y0": 1.6710252183252348,
          "y1": 2.060335023460303
         },
         {
          "line": {
           "color": "rgba(112,128,114,0.6)",
           "width": 2
          },
          "type": "line",
          "x0": 1.0129568857702604,
          "x1": 0.9119793300009538,
          "y0": 0.34354653866754703,
          "y1": 0.5576019053212546
         },
         {
          "line": {
           "color": "rgba(112,128,114,0.6)",
           "width": 2
          },
          "type": "line",
          "x0": 0.3875261042838287,
          "x1": -0.7919761220523903,
          "y0": -1.3415954381430306,
          "y1": -0.8711507366642636
         },
         {
          "line": {
           "color": "rgba(112,128,114,0.6)",
           "width": 2
          },
          "type": "line",
          "x0": -0.29359095938326674,
          "x1": 0.3034910477647101,
          "y0": 0.2432484069777617,
          "y1": -0.19679762863382505
         },
         {
          "line": {
           "color": "rgba(112,128,114,0.6)",
           "width": 2
          },
          "type": "line",
          "x0": -0.06332365066941963,
          "x1": 0.3364629554680457,
          "y0": 1.2510797725958152,
          "y1": 1.1524443275839058
         },
         {
          "line": {
           "color": "rgba(112,128,114,0.6)",
           "width": 2
          },
          "type": "line",
          "x0": -1.666875339233785,
          "x1": -0.05442663773068604,
          "y0": -0.08056561903846432,
          "y1": 0.5415752326245031
         },
         {
          "line": {
           "color": "rgba(112,128,114,0.6)",
           "width": 2
          },
          "type": "line",
          "x0": 3.073548744265298,
          "x1": 2.2711263497861824,
          "y0": 1.3374992887888428,
          "y1": 2.041336854167392
         },
         {
          "line": {
           "color": "rgba(112,128,114,0.6)",
           "width": 2
          },
          "type": "line",
          "x0": -1.6240467773364877,
          "x1": -1.6264406946829475,
          "y0": -2.004543998585498,
          "y1": 0.24188912214329142
         },
         {
          "line": {
           "color": "rgba(112,128,114,0.6)",
           "width": 2
          },
          "type": "line",
          "x0": 0.2151344021542272,
          "x1": -0.024073758691979506,
          "y0": 1.39634436209879,
          "y1": 0.20251993017059963
         },
         {
          "line": {
           "color": "rgba(112,128,114,0.6)",
           "width": 2
          },
          "type": "line",
          "x0": -0.794561786069889,
          "x1": -0.505846328280266,
          "y0": -0.18505313044757482,
          "y1": -0.16629751283619107
         },
         {
          "line": {
           "color": "rgba(112,128,114,0.6)",
           "width": 2
          },
          "type": "line",
          "x0": 0.23507434790369006,
          "x1": -0.859541378652252,
          "y0": -1.9112217564895375,
          "y1": -0.6013320199904695
         },
         {
          "line": {
           "color": "rgba(112,128,114,0.6)",
           "width": 2
          },
          "type": "line",
          "x0": 0.35364188509144556,
          "x1": 0.30484519776539165,
          "y0": 1.6849728458486803,
          "y1": 0.17358037187710607
         },
         {
          "line": {
           "color": "rgba(112,128,114,0.6)",
           "width": 2
          },
          "type": "line",
          "x0": 0.9305602416306888,
          "x1": 0.07955952231604964,
          "y0": -1.5806073420932536,
          "y1": -0.46799827034743785
         },
         {
          "line": {
           "color": "rgba(112,128,114,0.6)",
           "width": 2
          },
          "type": "line",
          "x0": 0.5440062539656537,
          "x1": 0.5075599092609236,
          "y0": 0.0769100557596063,
          "y1": 0.310928802351113
         },
         {
          "line": {
           "color": "rgba(112,128,114,0.6)",
           "width": 2
          },
          "type": "line",
          "x0": -1.2191664368865898,
          "x1": -1.3266185082608133,
          "y0": -1.2837785854866448,
          "y1": -0.4513160117499242
         },
         {
          "line": {
           "color": "rgba(112,128,114,0.6)",
           "width": 2
          },
          "type": "line",
          "x0": 0.7598653397871632,
          "x1": 0.06761563755220246,
          "y0": -0.5408604009890804,
          "y1": -0.41833838289159025
         },
         {
          "line": {
           "color": "rgba(112,128,114,0.6)",
           "width": 2
          },
          "type": "line",
          "x0": 0.8710704068168618,
          "x1": -0.0015740575156826054,
          "y0": 0.6038997280150729,
          "y1": 0.3695004140729596
         },
         {
          "line": {
           "color": "rgba(112,128,114,0.6)",
           "width": 2
          },
          "type": "line",
          "x0": 0.9505116762527686,
          "x1": 0.5588539741136814,
          "y0": 0.027485563448648095,
          "y1": 1.641347606711677
         },
         {
          "line": {
           "color": "rgba(112,128,114,0.6)",
           "width": 2
          },
          "type": "line",
          "x0": -0.9921402031256387,
          "x1": 0.00926894253890721,
          "y0": 0.11803366649516635,
          "y1": 0.2684173136818456
         },
         {
          "line": {
           "color": "rgba(112,128,114,0.6)",
           "width": 2
          },
          "type": "line",
          "x0": 1.3834390465968416,
          "x1": 2.0041188252332565,
          "y0": -0.125934908667055,
          "y1": -1.5427278676811111
         },
         {
          "line": {
           "color": "rgba(112,128,114,0.6)",
           "width": 2
          },
          "type": "line",
          "x0": -0.20138951755099332,
          "x1": -0.06520129846285916,
          "y0": -1.408668295160374,
          "y1": -1.1363129184819463
         },
         {
          "line": {
           "color": "rgba(112,128,114,0.6)",
           "width": 2
          },
          "type": "line",
          "x0": -0.3697490806253764,
          "x1": 0.20767815657979732,
          "y0": -0.2750326156605736,
          "y1": -0.11251562926059851
         },
         {
          "line": {
           "color": "rgba(112,128,114,0.6)",
           "width": 2
          },
          "type": "line",
          "x0": 0.9066851607462445,
          "x1": -1.500020747380472,
          "y0": -0.07238454548681103,
          "y1": -0.9008385792436953
         },
         {
          "line": {
           "color": "rgba(112,128,114,0.6)",
           "width": 2
          },
          "type": "line",
          "x0": -0.25601738852551637,
          "x1": -0.5281945522152842,
          "y0": 0.5679830948449472,
          "y1": 0.812324212551547
         },
         {
          "line": {
           "color": "rgba(112,128,114,0.6)",
           "width": 2
          },
          "type": "line",
          "x0": -1.0910870499106209,
          "x1": -0.8579285420550343,
          "y0": 1.1548342799517355,
          "y1": 0.35777955107618975
         },
         {
          "line": {
           "color": "rgba(112,128,114,0.6)",
           "width": 2
          },
          "type": "line",
          "x0": 0.38095933465065507,
          "x1": -0.4451213930817922,
          "y0": -1.0701636063820694,
          "y1": -0.8235690896419668
         }
        ],
        "template": {
         "data": {
          "bar": [
           {
            "error_x": {
             "color": "#2a3f5f"
            },
            "error_y": {
             "color": "#2a3f5f"
            },
            "marker": {
             "line": {
              "color": "#E5ECF6",
              "width": 0.5
             },
             "pattern": {
              "fillmode": "overlay",
              "size": 10,
              "solidity": 0.2
             }
            },
            "type": "bar"
           }
          ],
          "barpolar": [
           {
            "marker": {
             "line": {
              "color": "#E5ECF6",
              "width": 0.5
             },
             "pattern": {
              "fillmode": "overlay",
              "size": 10,
              "solidity": 0.2
             }
            },
            "type": "barpolar"
           }
          ],
          "carpet": [
           {
            "aaxis": {
             "endlinecolor": "#2a3f5f",
             "gridcolor": "white",
             "linecolor": "white",
             "minorgridcolor": "white",
             "startlinecolor": "#2a3f5f"
            },
            "baxis": {
             "endlinecolor": "#2a3f5f",
             "gridcolor": "white",
             "linecolor": "white",
             "minorgridcolor": "white",
             "startlinecolor": "#2a3f5f"
            },
            "type": "carpet"
           }
          ],
          "choropleth": [
           {
            "colorbar": {
             "outlinewidth": 0,
             "ticks": ""
            },
            "type": "choropleth"
           }
          ],
          "contour": [
           {
            "colorbar": {
             "outlinewidth": 0,
             "ticks": ""
            },
            "colorscale": [
             [
              0,
              "#0d0887"
             ],
             [
              0.1111111111111111,
              "#46039f"
             ],
             [
              0.2222222222222222,
              "#7201a8"
             ],
             [
              0.3333333333333333,
              "#9c179e"
             ],
             [
              0.4444444444444444,
              "#bd3786"
             ],
             [
              0.5555555555555556,
              "#d8576b"
             ],
             [
              0.6666666666666666,
              "#ed7953"
             ],
             [
              0.7777777777777778,
              "#fb9f3a"
             ],
             [
              0.8888888888888888,
              "#fdca26"
             ],
             [
              1,
              "#f0f921"
             ]
            ],
            "type": "contour"
           }
          ],
          "contourcarpet": [
           {
            "colorbar": {
             "outlinewidth": 0,
             "ticks": ""
            },
            "type": "contourcarpet"
           }
          ],
          "heatmap": [
           {
            "colorbar": {
             "outlinewidth": 0,
             "ticks": ""
            },
            "colorscale": [
             [
              0,
              "#0d0887"
             ],
             [
              0.1111111111111111,
              "#46039f"
             ],
             [
              0.2222222222222222,
              "#7201a8"
             ],
             [
              0.3333333333333333,
              "#9c179e"
             ],
             [
              0.4444444444444444,
              "#bd3786"
             ],
             [
              0.5555555555555556,
              "#d8576b"
             ],
             [
              0.6666666666666666,
              "#ed7953"
             ],
             [
              0.7777777777777778,
              "#fb9f3a"
             ],
             [
              0.8888888888888888,
              "#fdca26"
             ],
             [
              1,
              "#f0f921"
             ]
            ],
            "type": "heatmap"
           }
          ],
          "heatmapgl": [
           {
            "colorbar": {
             "outlinewidth": 0,
             "ticks": ""
            },
            "colorscale": [
             [
              0,
              "#0d0887"
             ],
             [
              0.1111111111111111,
              "#46039f"
             ],
             [
              0.2222222222222222,
              "#7201a8"
             ],
             [
              0.3333333333333333,
              "#9c179e"
             ],
             [
              0.4444444444444444,
              "#bd3786"
             ],
             [
              0.5555555555555556,
              "#d8576b"
             ],
             [
              0.6666666666666666,
              "#ed7953"
             ],
             [
              0.7777777777777778,
              "#fb9f3a"
             ],
             [
              0.8888888888888888,
              "#fdca26"
             ],
             [
              1,
              "#f0f921"
             ]
            ],
            "type": "heatmapgl"
           }
          ],
          "histogram": [
           {
            "marker": {
             "pattern": {
              "fillmode": "overlay",
              "size": 10,
              "solidity": 0.2
             }
            },
            "type": "histogram"
           }
          ],
          "histogram2d": [
           {
            "colorbar": {
             "outlinewidth": 0,
             "ticks": ""
            },
            "colorscale": [
             [
              0,
              "#0d0887"
             ],
             [
              0.1111111111111111,
              "#46039f"
             ],
             [
              0.2222222222222222,
              "#7201a8"
             ],
             [
              0.3333333333333333,
              "#9c179e"
             ],
             [
              0.4444444444444444,
              "#bd3786"
             ],
             [
              0.5555555555555556,
              "#d8576b"
             ],
             [
              0.6666666666666666,
              "#ed7953"
             ],
             [
              0.7777777777777778,
              "#fb9f3a"
             ],
             [
              0.8888888888888888,
              "#fdca26"
             ],
             [
              1,
              "#f0f921"
             ]
            ],
            "type": "histogram2d"
           }
          ],
          "histogram2dcontour": [
           {
            "colorbar": {
             "outlinewidth": 0,
             "ticks": ""
            },
            "colorscale": [
             [
              0,
              "#0d0887"
             ],
             [
              0.1111111111111111,
              "#46039f"
             ],
             [
              0.2222222222222222,
              "#7201a8"
             ],
             [
              0.3333333333333333,
              "#9c179e"
             ],
             [
              0.4444444444444444,
              "#bd3786"
             ],
             [
              0.5555555555555556,
              "#d8576b"
             ],
             [
              0.6666666666666666,
              "#ed7953"
             ],
             [
              0.7777777777777778,
              "#fb9f3a"
             ],
             [
              0.8888888888888888,
              "#fdca26"
             ],
             [
              1,
              "#f0f921"
             ]
            ],
            "type": "histogram2dcontour"
           }
          ],
          "mesh3d": [
           {
            "colorbar": {
             "outlinewidth": 0,
             "ticks": ""
            },
            "type": "mesh3d"
           }
          ],
          "parcoords": [
           {
            "line": {
             "colorbar": {
              "outlinewidth": 0,
              "ticks": ""
             }
            },
            "type": "parcoords"
           }
          ],
          "pie": [
           {
            "automargin": true,
            "type": "pie"
           }
          ],
          "scatter": [
           {
            "fillpattern": {
             "fillmode": "overlay",
             "size": 10,
             "solidity": 0.2
            },
            "type": "scatter"
           }
          ],
          "scatter3d": [
           {
            "line": {
             "colorbar": {
              "outlinewidth": 0,
              "ticks": ""
             }
            },
            "marker": {
             "colorbar": {
              "outlinewidth": 0,
              "ticks": ""
             }
            },
            "type": "scatter3d"
           }
          ],
          "scattercarpet": [
           {
            "marker": {
             "colorbar": {
              "outlinewidth": 0,
              "ticks": ""
             }
            },
            "type": "scattercarpet"
           }
          ],
          "scattergeo": [
           {
            "marker": {
             "colorbar": {
              "outlinewidth": 0,
              "ticks": ""
             }
            },
            "type": "scattergeo"
           }
          ],
          "scattergl": [
           {
            "marker": {
             "colorbar": {
              "outlinewidth": 0,
              "ticks": ""
             }
            },
            "type": "scattergl"
           }
          ],
          "scattermapbox": [
           {
            "marker": {
             "colorbar": {
              "outlinewidth": 0,
              "ticks": ""
             }
            },
            "type": "scattermapbox"
           }
          ],
          "scatterpolar": [
           {
            "marker": {
             "colorbar": {
              "outlinewidth": 0,
              "ticks": ""
             }
            },
            "type": "scatterpolar"
           }
          ],
          "scatterpolargl": [
           {
            "marker": {
             "colorbar": {
              "outlinewidth": 0,
              "ticks": ""
             }
            },
            "type": "scatterpolargl"
           }
          ],
          "scatterternary": [
           {
            "marker": {
             "colorbar": {
              "outlinewidth": 0,
              "ticks": ""
             }
            },
            "type": "scatterternary"
           }
          ],
          "surface": [
           {
            "colorbar": {
             "outlinewidth": 0,
             "ticks": ""
            },
            "colorscale": [
             [
              0,
              "#0d0887"
             ],
             [
              0.1111111111111111,
              "#46039f"
             ],
             [
              0.2222222222222222,
              "#7201a8"
             ],
             [
              0.3333333333333333,
              "#9c179e"
             ],
             [
              0.4444444444444444,
              "#bd3786"
             ],
             [
              0.5555555555555556,
              "#d8576b"
             ],
             [
              0.6666666666666666,
              "#ed7953"
             ],
             [
              0.7777777777777778,
              "#fb9f3a"
             ],
             [
              0.8888888888888888,
              "#fdca26"
             ],
             [
              1,
              "#f0f921"
             ]
            ],
            "type": "surface"
           }
          ],
          "table": [
           {
            "cells": {
             "fill": {
              "color": "#EBF0F8"
             },
             "line": {
              "color": "white"
             }
            },
            "header": {
             "fill": {
              "color": "#C8D4E3"
             },
             "line": {
              "color": "white"
             }
            },
            "type": "table"
           }
          ]
         },
         "layout": {
          "annotationdefaults": {
           "arrowcolor": "#2a3f5f",
           "arrowhead": 0,
           "arrowwidth": 1
          },
          "autotypenumbers": "strict",
          "coloraxis": {
           "colorbar": {
            "outlinewidth": 0,
            "ticks": ""
           }
          },
          "colorscale": {
           "diverging": [
            [
             0,
             "#8e0152"
            ],
            [
             0.1,
             "#c51b7d"
            ],
            [
             0.2,
             "#de77ae"
            ],
            [
             0.3,
             "#f1b6da"
            ],
            [
             0.4,
             "#fde0ef"
            ],
            [
             0.5,
             "#f7f7f7"
            ],
            [
             0.6,
             "#e6f5d0"
            ],
            [
             0.7,
             "#b8e186"
            ],
            [
             0.8,
             "#7fbc41"
            ],
            [
             0.9,
             "#4d9221"
            ],
            [
             1,
             "#276419"
            ]
           ],
           "sequential": [
            [
             0,
             "#0d0887"
            ],
            [
             0.1111111111111111,
             "#46039f"
            ],
            [
             0.2222222222222222,
             "#7201a8"
            ],
            [
             0.3333333333333333,
             "#9c179e"
            ],
            [
             0.4444444444444444,
             "#bd3786"
            ],
            [
             0.5555555555555556,
             "#d8576b"
            ],
            [
             0.6666666666666666,
             "#ed7953"
            ],
            [
             0.7777777777777778,
             "#fb9f3a"
            ],
            [
             0.8888888888888888,
             "#fdca26"
            ],
            [
             1,
             "#f0f921"
            ]
           ],
           "sequentialminus": [
            [
             0,
             "#0d0887"
            ],
            [
             0.1111111111111111,
             "#46039f"
            ],
            [
             0.2222222222222222,
             "#7201a8"
            ],
            [
             0.3333333333333333,
             "#9c179e"
            ],
            [
             0.4444444444444444,
             "#bd3786"
            ],
            [
             0.5555555555555556,
             "#d8576b"
            ],
            [
             0.6666666666666666,
             "#ed7953"
            ],
            [
             0.7777777777777778,
             "#fb9f3a"
            ],
            [
             0.8888888888888888,
             "#fdca26"
            ],
            [
             1,
             "#f0f921"
            ]
           ]
          },
          "colorway": [
           "#636efa",
           "#EF553B",
           "#00cc96",
           "#ab63fa",
           "#FFA15A",
           "#19d3f3",
           "#FF6692",
           "#B6E880",
           "#FF97FF",
           "#FECB52"
          ],
          "font": {
           "color": "#2a3f5f"
          },
          "geo": {
           "bgcolor": "white",
           "lakecolor": "white",
           "landcolor": "#E5ECF6",
           "showlakes": true,
           "showland": true,
           "subunitcolor": "white"
          },
          "hoverlabel": {
           "align": "left"
          },
          "hovermode": "closest",
          "mapbox": {
           "style": "light"
          },
          "paper_bgcolor": "white",
          "plot_bgcolor": "#E5ECF6",
          "polar": {
           "angularaxis": {
            "gridcolor": "white",
            "linecolor": "white",
            "ticks": ""
           },
           "bgcolor": "#E5ECF6",
           "radialaxis": {
            "gridcolor": "white",
            "linecolor": "white",
            "ticks": ""
           }
          },
          "scene": {
           "xaxis": {
            "backgroundcolor": "#E5ECF6",
            "gridcolor": "white",
            "gridwidth": 2,
            "linecolor": "white",
            "showbackground": true,
            "ticks": "",
            "zerolinecolor": "white"
           },
           "yaxis": {
            "backgroundcolor": "#E5ECF6",
            "gridcolor": "white",
            "gridwidth": 2,
            "linecolor": "white",
            "showbackground": true,
            "ticks": "",
            "zerolinecolor": "white"
           },
           "zaxis": {
            "backgroundcolor": "#E5ECF6",
            "gridcolor": "white",
            "gridwidth": 2,
            "linecolor": "white",
            "showbackground": true,
            "ticks": "",
            "zerolinecolor": "white"
           }
          },
          "shapedefaults": {
           "line": {
            "color": "#2a3f5f"
           }
          },
          "ternary": {
           "aaxis": {
            "gridcolor": "white",
            "linecolor": "white",
            "ticks": ""
           },
           "baxis": {
            "gridcolor": "white",
            "linecolor": "white",
            "ticks": ""
           },
           "bgcolor": "#E5ECF6",
           "caxis": {
            "gridcolor": "white",
            "linecolor": "white",
            "ticks": ""
           }
          },
          "title": {
           "x": 0.05
          },
          "xaxis": {
           "automargin": true,
           "gridcolor": "white",
           "linecolor": "white",
           "ticks": "",
           "title": {
            "standoff": 15
           },
           "zerolinecolor": "white",
           "zerolinewidth": 2
          },
          "yaxis": {
           "automargin": true,
           "gridcolor": "white",
           "linecolor": "white",
           "ticks": "",
           "title": {
            "standoff": 15
           },
           "zerolinecolor": "white",
           "zerolinewidth": 2
          }
         }
        },
        "title": {
         "text": "Segement Plot << ts1 and ts2 >>"
        },
        "xaxis": {
         "range": [
          -3.607702667093379,
          3.607702667093379
         ],
         "title": {
          "text": "Central"
         }
        },
        "yaxis": {
         "range": [
          -3.607702667093379,
          3.607702667093379
         ],
         "title": {
          "text": "Range"
         }
        }
       }
      }
     },
     "metadata": {},
     "output_type": "display_data"
    }
   ],
   "source": [
    "segment(ts1, ts2, \"ts1\", \"ts2\")"
   ]
  }
 ],
 "metadata": {
  "kernelspec": {
   "display_name": "IntervalTimeSeries",
   "language": "python",
   "name": "python3"
  },
  "language_info": {
   "codemirror_mode": {
    "name": "ipython",
    "version": 3
   },
   "file_extension": ".py",
   "mimetype": "text/x-python",
   "name": "python",
   "nbconvert_exporter": "python",
   "pygments_lexer": "ipython3",
   "version": "3.9.16"
  },
  "orig_nbformat": 4
 },
 "nbformat": 4,
 "nbformat_minor": 2
}
